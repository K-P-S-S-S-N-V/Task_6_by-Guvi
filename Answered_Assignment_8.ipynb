{
  "cells": [
    {
      "cell_type": "markdown",
      "source": [
        "by @poorna venkatesh kadali"
      ],
      "metadata": {
        "id": "qDz47fZYYvjM"
      }
    },
    {
      "cell_type": "markdown",
      "source": [
        "In this Google collab we will find Assignment 8 that was given by GUVI - Greek Networks"
      ],
      "metadata": {
        "id": "kzmUGPWlRtZI"
      }
    },
    {
      "cell_type": "markdown",
      "metadata": {
        "id": "RXJAwCf0RNyr"
      },
      "source": [
        "# Assignment8"
      ]
    },
    {
      "cell_type": "markdown",
      "source": [
        "Let us import modules realeted to our present project it includes modules Pandas Module, Matplotlib Module, Numpy Module, and Sklearn - Linear model\n"
      ],
      "metadata": {
        "id": "gE3Rg1j6TD0c"
      }
    },
    {
      "cell_type": "code",
      "execution_count": 3,
      "metadata": {
        "collapsed": true,
        "id": "-a8kjhnFRNyv"
      },
      "outputs": [],
      "source": [
        "import pandas as pd\n",
        "import matplotlib.pyplot as plt\n",
        "import numpy as np\n",
        "from sklearn import linear_model"
      ]
    },
    {
      "cell_type": "markdown",
      "metadata": {
        "id": "txTyX9JfRNyw"
      },
      "source": [
        "# How Much is Your Car Worth?\n",
        "\n",
        "Data about the retail price of 2005 General Motors cars can be found in `car_data.csv`.\n",
        "\n",
        "The columns are:\n",
        "\n",
        "1. Price: suggested retail price of the used 2005 GM car in excellent condition.\n",
        "2. Mileage: number of miles the car has been driven\n",
        "3. Make: manufacturer of the car such as Saturn, Pontiac, and Chevrolet\n",
        "4. Model: specific models for each car manufacturer such as Ion, Vibe, Cavalier\n",
        "5. Trim (of car): specific type of car model such as SE Sedan 4D, Quad Coupe 2D          \n",
        "6. Type: body type such as sedan, coupe, etc.      \n",
        "7. Cylinder: number of cylinders in the engine        \n",
        "8. Liter: a more specific measure of engine size     \n",
        "9. Doors: number of doors           \n",
        "10. Cruise: indicator variable representing whether the car has cruise control (1 = cruise)\n",
        "11. Sound: indicator variable representing whether the car has upgraded speakers (1 = upgraded)\n",
        "12. Leather: indicator variable representing whether the car has leather seats (1 = leather)\n"
      ]
    },
    {
      "cell_type": "code",
      "execution_count": 6,
      "metadata": {
        "id": "iIs0Z4bMRNyx",
        "colab": {
          "base_uri": "https://localhost:8080/",
          "height": 206
        },
        "outputId": "d1045c2b-f5cc-4c59-c0a7-320213654660"
      },
      "outputs": [
        {
          "output_type": "execute_result",
          "data": {
            "text/plain": [
              "          Price  Mileage   Make    Model      Trim   Type  Cylinder  Liter  \\\n",
              "0  17314.103129     8221  Buick  Century  Sedan 4D  Sedan         6    3.1   \n",
              "1  17542.036083     9135  Buick  Century  Sedan 4D  Sedan         6    3.1   \n",
              "2  16218.847862    13196  Buick  Century  Sedan 4D  Sedan         6    3.1   \n",
              "3  16336.913140    16342  Buick  Century  Sedan 4D  Sedan         6    3.1   \n",
              "4  16339.170324    19832  Buick  Century  Sedan 4D  Sedan         6    3.1   \n",
              "\n",
              "   Doors  Cruise  Sound  Leather  \n",
              "0      4       1      1        1  \n",
              "1      4       1      1        0  \n",
              "2      4       1      1        0  \n",
              "3      4       1      0        0  \n",
              "4      4       1      0        1  "
            ],
            "text/html": [
              "\n",
              "  <div id=\"df-b93e4ac8-c481-4a9e-a1bf-4d3e24651abf\">\n",
              "    <div class=\"colab-df-container\">\n",
              "      <div>\n",
              "<style scoped>\n",
              "    .dataframe tbody tr th:only-of-type {\n",
              "        vertical-align: middle;\n",
              "    }\n",
              "\n",
              "    .dataframe tbody tr th {\n",
              "        vertical-align: top;\n",
              "    }\n",
              "\n",
              "    .dataframe thead th {\n",
              "        text-align: right;\n",
              "    }\n",
              "</style>\n",
              "<table border=\"1\" class=\"dataframe\">\n",
              "  <thead>\n",
              "    <tr style=\"text-align: right;\">\n",
              "      <th></th>\n",
              "      <th>Price</th>\n",
              "      <th>Mileage</th>\n",
              "      <th>Make</th>\n",
              "      <th>Model</th>\n",
              "      <th>Trim</th>\n",
              "      <th>Type</th>\n",
              "      <th>Cylinder</th>\n",
              "      <th>Liter</th>\n",
              "      <th>Doors</th>\n",
              "      <th>Cruise</th>\n",
              "      <th>Sound</th>\n",
              "      <th>Leather</th>\n",
              "    </tr>\n",
              "  </thead>\n",
              "  <tbody>\n",
              "    <tr>\n",
              "      <th>0</th>\n",
              "      <td>17314.103129</td>\n",
              "      <td>8221</td>\n",
              "      <td>Buick</td>\n",
              "      <td>Century</td>\n",
              "      <td>Sedan 4D</td>\n",
              "      <td>Sedan</td>\n",
              "      <td>6</td>\n",
              "      <td>3.1</td>\n",
              "      <td>4</td>\n",
              "      <td>1</td>\n",
              "      <td>1</td>\n",
              "      <td>1</td>\n",
              "    </tr>\n",
              "    <tr>\n",
              "      <th>1</th>\n",
              "      <td>17542.036083</td>\n",
              "      <td>9135</td>\n",
              "      <td>Buick</td>\n",
              "      <td>Century</td>\n",
              "      <td>Sedan 4D</td>\n",
              "      <td>Sedan</td>\n",
              "      <td>6</td>\n",
              "      <td>3.1</td>\n",
              "      <td>4</td>\n",
              "      <td>1</td>\n",
              "      <td>1</td>\n",
              "      <td>0</td>\n",
              "    </tr>\n",
              "    <tr>\n",
              "      <th>2</th>\n",
              "      <td>16218.847862</td>\n",
              "      <td>13196</td>\n",
              "      <td>Buick</td>\n",
              "      <td>Century</td>\n",
              "      <td>Sedan 4D</td>\n",
              "      <td>Sedan</td>\n",
              "      <td>6</td>\n",
              "      <td>3.1</td>\n",
              "      <td>4</td>\n",
              "      <td>1</td>\n",
              "      <td>1</td>\n",
              "      <td>0</td>\n",
              "    </tr>\n",
              "    <tr>\n",
              "      <th>3</th>\n",
              "      <td>16336.913140</td>\n",
              "      <td>16342</td>\n",
              "      <td>Buick</td>\n",
              "      <td>Century</td>\n",
              "      <td>Sedan 4D</td>\n",
              "      <td>Sedan</td>\n",
              "      <td>6</td>\n",
              "      <td>3.1</td>\n",
              "      <td>4</td>\n",
              "      <td>1</td>\n",
              "      <td>0</td>\n",
              "      <td>0</td>\n",
              "    </tr>\n",
              "    <tr>\n",
              "      <th>4</th>\n",
              "      <td>16339.170324</td>\n",
              "      <td>19832</td>\n",
              "      <td>Buick</td>\n",
              "      <td>Century</td>\n",
              "      <td>Sedan 4D</td>\n",
              "      <td>Sedan</td>\n",
              "      <td>6</td>\n",
              "      <td>3.1</td>\n",
              "      <td>4</td>\n",
              "      <td>1</td>\n",
              "      <td>0</td>\n",
              "      <td>1</td>\n",
              "    </tr>\n",
              "  </tbody>\n",
              "</table>\n",
              "</div>\n",
              "      <button class=\"colab-df-convert\" onclick=\"convertToInteractive('df-b93e4ac8-c481-4a9e-a1bf-4d3e24651abf')\"\n",
              "              title=\"Convert this dataframe to an interactive table.\"\n",
              "              style=\"display:none;\">\n",
              "        \n",
              "  <svg xmlns=\"http://www.w3.org/2000/svg\" height=\"24px\"viewBox=\"0 0 24 24\"\n",
              "       width=\"24px\">\n",
              "    <path d=\"M0 0h24v24H0V0z\" fill=\"none\"/>\n",
              "    <path d=\"M18.56 5.44l.94 2.06.94-2.06 2.06-.94-2.06-.94-.94-2.06-.94 2.06-2.06.94zm-11 1L8.5 8.5l.94-2.06 2.06-.94-2.06-.94L8.5 2.5l-.94 2.06-2.06.94zm10 10l.94 2.06.94-2.06 2.06-.94-2.06-.94-.94-2.06-.94 2.06-2.06.94z\"/><path d=\"M17.41 7.96l-1.37-1.37c-.4-.4-.92-.59-1.43-.59-.52 0-1.04.2-1.43.59L10.3 9.45l-7.72 7.72c-.78.78-.78 2.05 0 2.83L4 21.41c.39.39.9.59 1.41.59.51 0 1.02-.2 1.41-.59l7.78-7.78 2.81-2.81c.8-.78.8-2.07 0-2.86zM5.41 20L4 18.59l7.72-7.72 1.47 1.35L5.41 20z\"/>\n",
              "  </svg>\n",
              "      </button>\n",
              "      \n",
              "  <style>\n",
              "    .colab-df-container {\n",
              "      display:flex;\n",
              "      flex-wrap:wrap;\n",
              "      gap: 12px;\n",
              "    }\n",
              "\n",
              "    .colab-df-convert {\n",
              "      background-color: #E8F0FE;\n",
              "      border: none;\n",
              "      border-radius: 50%;\n",
              "      cursor: pointer;\n",
              "      display: none;\n",
              "      fill: #1967D2;\n",
              "      height: 32px;\n",
              "      padding: 0 0 0 0;\n",
              "      width: 32px;\n",
              "    }\n",
              "\n",
              "    .colab-df-convert:hover {\n",
              "      background-color: #E2EBFA;\n",
              "      box-shadow: 0px 1px 2px rgba(60, 64, 67, 0.3), 0px 1px 3px 1px rgba(60, 64, 67, 0.15);\n",
              "      fill: #174EA6;\n",
              "    }\n",
              "\n",
              "    [theme=dark] .colab-df-convert {\n",
              "      background-color: #3B4455;\n",
              "      fill: #D2E3FC;\n",
              "    }\n",
              "\n",
              "    [theme=dark] .colab-df-convert:hover {\n",
              "      background-color: #434B5C;\n",
              "      box-shadow: 0px 1px 3px 1px rgba(0, 0, 0, 0.15);\n",
              "      filter: drop-shadow(0px 1px 2px rgba(0, 0, 0, 0.3));\n",
              "      fill: #FFFFFF;\n",
              "    }\n",
              "  </style>\n",
              "\n",
              "      <script>\n",
              "        const buttonEl =\n",
              "          document.querySelector('#df-b93e4ac8-c481-4a9e-a1bf-4d3e24651abf button.colab-df-convert');\n",
              "        buttonEl.style.display =\n",
              "          google.colab.kernel.accessAllowed ? 'block' : 'none';\n",
              "\n",
              "        async function convertToInteractive(key) {\n",
              "          const element = document.querySelector('#df-b93e4ac8-c481-4a9e-a1bf-4d3e24651abf');\n",
              "          const dataTable =\n",
              "            await google.colab.kernel.invokeFunction('convertToInteractive',\n",
              "                                                     [key], {});\n",
              "          if (!dataTable) return;\n",
              "\n",
              "          const docLinkHtml = 'Like what you see? Visit the ' +\n",
              "            '<a target=\"_blank\" href=https://colab.research.google.com/notebooks/data_table.ipynb>data table notebook</a>'\n",
              "            + ' to learn more about interactive tables.';\n",
              "          element.innerHTML = '';\n",
              "          dataTable['output_type'] = 'display_data';\n",
              "          await google.colab.output.renderOutput(dataTable, element);\n",
              "          const docLink = document.createElement('div');\n",
              "          docLink.innerHTML = docLinkHtml;\n",
              "          element.appendChild(docLink);\n",
              "        }\n",
              "      </script>\n",
              "    </div>\n",
              "  </div>\n",
              "  "
            ]
          },
          "metadata": {},
          "execution_count": 6
        }
      ],
      "source": [
        "df = pd.read_csv(\"car_data (1).csv\")\n",
        "df.head() # to print top 5 data lines or Head data of the given dataset"
      ]
    },
    {
      "cell_type": "code",
      "source": [
        "df.info()"
      ],
      "metadata": {
        "colab": {
          "base_uri": "https://localhost:8080/"
        },
        "id": "quh-yHJgTMdR",
        "outputId": "95ce4fb6-87fe-4bd7-96f8-8a266f0c9593"
      },
      "execution_count": 7,
      "outputs": [
        {
          "output_type": "stream",
          "name": "stdout",
          "text": [
            "<class 'pandas.core.frame.DataFrame'>\n",
            "RangeIndex: 804 entries, 0 to 803\n",
            "Data columns (total 12 columns):\n",
            " #   Column    Non-Null Count  Dtype  \n",
            "---  ------    --------------  -----  \n",
            " 0   Price     804 non-null    float64\n",
            " 1   Mileage   804 non-null    int64  \n",
            " 2   Make      804 non-null    object \n",
            " 3   Model     804 non-null    object \n",
            " 4   Trim      804 non-null    object \n",
            " 5   Type      804 non-null    object \n",
            " 6   Cylinder  804 non-null    int64  \n",
            " 7   Liter     804 non-null    float64\n",
            " 8   Doors     804 non-null    int64  \n",
            " 9   Cruise    804 non-null    int64  \n",
            " 10  Sound     804 non-null    int64  \n",
            " 11  Leather   804 non-null    int64  \n",
            "dtypes: float64(2), int64(6), object(4)\n",
            "memory usage: 75.5+ KB\n"
          ]
        }
      ]
    },
    {
      "cell_type": "code",
      "source": [
        "df.describe()"
      ],
      "metadata": {
        "colab": {
          "base_uri": "https://localhost:8080/",
          "height": 300
        },
        "id": "D5t-mIdhTn8U",
        "outputId": "f377879a-0191-4769-8a53-f79d949a5d83"
      },
      "execution_count": 8,
      "outputs": [
        {
          "output_type": "execute_result",
          "data": {
            "text/plain": [
              "              Price       Mileage    Cylinder       Liter       Doors  \\\n",
              "count    804.000000    804.000000  804.000000  804.000000  804.000000   \n",
              "mean   21343.143767  19831.934080    5.268657    3.037313    3.527363   \n",
              "std     9884.852801   8196.319707    1.387531    1.105562    0.850169   \n",
              "min     8638.930895    266.000000    4.000000    1.600000    2.000000   \n",
              "25%    14273.073870  14623.500000    4.000000    2.200000    4.000000   \n",
              "50%    18024.995019  20913.500000    6.000000    2.800000    4.000000   \n",
              "75%    26717.316636  25213.000000    6.000000    3.800000    4.000000   \n",
              "max    70755.466717  50387.000000    8.000000    6.000000    4.000000   \n",
              "\n",
              "           Cruise       Sound     Leather  \n",
              "count  804.000000  804.000000  804.000000  \n",
              "mean     0.752488    0.679104    0.723881  \n",
              "std      0.431836    0.467111    0.447355  \n",
              "min      0.000000    0.000000    0.000000  \n",
              "25%      1.000000    0.000000    0.000000  \n",
              "50%      1.000000    1.000000    1.000000  \n",
              "75%      1.000000    1.000000    1.000000  \n",
              "max      1.000000    1.000000    1.000000  "
            ],
            "text/html": [
              "\n",
              "  <div id=\"df-3e806ed4-7804-400b-af8b-83bf85f5d144\">\n",
              "    <div class=\"colab-df-container\">\n",
              "      <div>\n",
              "<style scoped>\n",
              "    .dataframe tbody tr th:only-of-type {\n",
              "        vertical-align: middle;\n",
              "    }\n",
              "\n",
              "    .dataframe tbody tr th {\n",
              "        vertical-align: top;\n",
              "    }\n",
              "\n",
              "    .dataframe thead th {\n",
              "        text-align: right;\n",
              "    }\n",
              "</style>\n",
              "<table border=\"1\" class=\"dataframe\">\n",
              "  <thead>\n",
              "    <tr style=\"text-align: right;\">\n",
              "      <th></th>\n",
              "      <th>Price</th>\n",
              "      <th>Mileage</th>\n",
              "      <th>Cylinder</th>\n",
              "      <th>Liter</th>\n",
              "      <th>Doors</th>\n",
              "      <th>Cruise</th>\n",
              "      <th>Sound</th>\n",
              "      <th>Leather</th>\n",
              "    </tr>\n",
              "  </thead>\n",
              "  <tbody>\n",
              "    <tr>\n",
              "      <th>count</th>\n",
              "      <td>804.000000</td>\n",
              "      <td>804.000000</td>\n",
              "      <td>804.000000</td>\n",
              "      <td>804.000000</td>\n",
              "      <td>804.000000</td>\n",
              "      <td>804.000000</td>\n",
              "      <td>804.000000</td>\n",
              "      <td>804.000000</td>\n",
              "    </tr>\n",
              "    <tr>\n",
              "      <th>mean</th>\n",
              "      <td>21343.143767</td>\n",
              "      <td>19831.934080</td>\n",
              "      <td>5.268657</td>\n",
              "      <td>3.037313</td>\n",
              "      <td>3.527363</td>\n",
              "      <td>0.752488</td>\n",
              "      <td>0.679104</td>\n",
              "      <td>0.723881</td>\n",
              "    </tr>\n",
              "    <tr>\n",
              "      <th>std</th>\n",
              "      <td>9884.852801</td>\n",
              "      <td>8196.319707</td>\n",
              "      <td>1.387531</td>\n",
              "      <td>1.105562</td>\n",
              "      <td>0.850169</td>\n",
              "      <td>0.431836</td>\n",
              "      <td>0.467111</td>\n",
              "      <td>0.447355</td>\n",
              "    </tr>\n",
              "    <tr>\n",
              "      <th>min</th>\n",
              "      <td>8638.930895</td>\n",
              "      <td>266.000000</td>\n",
              "      <td>4.000000</td>\n",
              "      <td>1.600000</td>\n",
              "      <td>2.000000</td>\n",
              "      <td>0.000000</td>\n",
              "      <td>0.000000</td>\n",
              "      <td>0.000000</td>\n",
              "    </tr>\n",
              "    <tr>\n",
              "      <th>25%</th>\n",
              "      <td>14273.073870</td>\n",
              "      <td>14623.500000</td>\n",
              "      <td>4.000000</td>\n",
              "      <td>2.200000</td>\n",
              "      <td>4.000000</td>\n",
              "      <td>1.000000</td>\n",
              "      <td>0.000000</td>\n",
              "      <td>0.000000</td>\n",
              "    </tr>\n",
              "    <tr>\n",
              "      <th>50%</th>\n",
              "      <td>18024.995019</td>\n",
              "      <td>20913.500000</td>\n",
              "      <td>6.000000</td>\n",
              "      <td>2.800000</td>\n",
              "      <td>4.000000</td>\n",
              "      <td>1.000000</td>\n",
              "      <td>1.000000</td>\n",
              "      <td>1.000000</td>\n",
              "    </tr>\n",
              "    <tr>\n",
              "      <th>75%</th>\n",
              "      <td>26717.316636</td>\n",
              "      <td>25213.000000</td>\n",
              "      <td>6.000000</td>\n",
              "      <td>3.800000</td>\n",
              "      <td>4.000000</td>\n",
              "      <td>1.000000</td>\n",
              "      <td>1.000000</td>\n",
              "      <td>1.000000</td>\n",
              "    </tr>\n",
              "    <tr>\n",
              "      <th>max</th>\n",
              "      <td>70755.466717</td>\n",
              "      <td>50387.000000</td>\n",
              "      <td>8.000000</td>\n",
              "      <td>6.000000</td>\n",
              "      <td>4.000000</td>\n",
              "      <td>1.000000</td>\n",
              "      <td>1.000000</td>\n",
              "      <td>1.000000</td>\n",
              "    </tr>\n",
              "  </tbody>\n",
              "</table>\n",
              "</div>\n",
              "      <button class=\"colab-df-convert\" onclick=\"convertToInteractive('df-3e806ed4-7804-400b-af8b-83bf85f5d144')\"\n",
              "              title=\"Convert this dataframe to an interactive table.\"\n",
              "              style=\"display:none;\">\n",
              "        \n",
              "  <svg xmlns=\"http://www.w3.org/2000/svg\" height=\"24px\"viewBox=\"0 0 24 24\"\n",
              "       width=\"24px\">\n",
              "    <path d=\"M0 0h24v24H0V0z\" fill=\"none\"/>\n",
              "    <path d=\"M18.56 5.44l.94 2.06.94-2.06 2.06-.94-2.06-.94-.94-2.06-.94 2.06-2.06.94zm-11 1L8.5 8.5l.94-2.06 2.06-.94-2.06-.94L8.5 2.5l-.94 2.06-2.06.94zm10 10l.94 2.06.94-2.06 2.06-.94-2.06-.94-.94-2.06-.94 2.06-2.06.94z\"/><path d=\"M17.41 7.96l-1.37-1.37c-.4-.4-.92-.59-1.43-.59-.52 0-1.04.2-1.43.59L10.3 9.45l-7.72 7.72c-.78.78-.78 2.05 0 2.83L4 21.41c.39.39.9.59 1.41.59.51 0 1.02-.2 1.41-.59l7.78-7.78 2.81-2.81c.8-.78.8-2.07 0-2.86zM5.41 20L4 18.59l7.72-7.72 1.47 1.35L5.41 20z\"/>\n",
              "  </svg>\n",
              "      </button>\n",
              "      \n",
              "  <style>\n",
              "    .colab-df-container {\n",
              "      display:flex;\n",
              "      flex-wrap:wrap;\n",
              "      gap: 12px;\n",
              "    }\n",
              "\n",
              "    .colab-df-convert {\n",
              "      background-color: #E8F0FE;\n",
              "      border: none;\n",
              "      border-radius: 50%;\n",
              "      cursor: pointer;\n",
              "      display: none;\n",
              "      fill: #1967D2;\n",
              "      height: 32px;\n",
              "      padding: 0 0 0 0;\n",
              "      width: 32px;\n",
              "    }\n",
              "\n",
              "    .colab-df-convert:hover {\n",
              "      background-color: #E2EBFA;\n",
              "      box-shadow: 0px 1px 2px rgba(60, 64, 67, 0.3), 0px 1px 3px 1px rgba(60, 64, 67, 0.15);\n",
              "      fill: #174EA6;\n",
              "    }\n",
              "\n",
              "    [theme=dark] .colab-df-convert {\n",
              "      background-color: #3B4455;\n",
              "      fill: #D2E3FC;\n",
              "    }\n",
              "\n",
              "    [theme=dark] .colab-df-convert:hover {\n",
              "      background-color: #434B5C;\n",
              "      box-shadow: 0px 1px 3px 1px rgba(0, 0, 0, 0.15);\n",
              "      filter: drop-shadow(0px 1px 2px rgba(0, 0, 0, 0.3));\n",
              "      fill: #FFFFFF;\n",
              "    }\n",
              "  </style>\n",
              "\n",
              "      <script>\n",
              "        const buttonEl =\n",
              "          document.querySelector('#df-3e806ed4-7804-400b-af8b-83bf85f5d144 button.colab-df-convert');\n",
              "        buttonEl.style.display =\n",
              "          google.colab.kernel.accessAllowed ? 'block' : 'none';\n",
              "\n",
              "        async function convertToInteractive(key) {\n",
              "          const element = document.querySelector('#df-3e806ed4-7804-400b-af8b-83bf85f5d144');\n",
              "          const dataTable =\n",
              "            await google.colab.kernel.invokeFunction('convertToInteractive',\n",
              "                                                     [key], {});\n",
              "          if (!dataTable) return;\n",
              "\n",
              "          const docLinkHtml = 'Like what you see? Visit the ' +\n",
              "            '<a target=\"_blank\" href=https://colab.research.google.com/notebooks/data_table.ipynb>data table notebook</a>'\n",
              "            + ' to learn more about interactive tables.';\n",
              "          element.innerHTML = '';\n",
              "          dataTable['output_type'] = 'display_data';\n",
              "          await google.colab.output.renderOutput(dataTable, element);\n",
              "          const docLink = document.createElement('div');\n",
              "          docLink.innerHTML = docLinkHtml;\n",
              "          element.appendChild(docLink);\n",
              "        }\n",
              "      </script>\n",
              "    </div>\n",
              "  </div>\n",
              "  "
            ]
          },
          "metadata": {},
          "execution_count": 8
        }
      ]
    },
    {
      "cell_type": "code",
      "source": [
        "df.shape"
      ],
      "metadata": {
        "colab": {
          "base_uri": "https://localhost:8080/"
        },
        "id": "lcjZEzCmTrw_",
        "outputId": "411f5fda-e3b7-4cb3-af8d-a94ed0053202"
      },
      "execution_count": 9,
      "outputs": [
        {
          "output_type": "execute_result",
          "data": {
            "text/plain": [
              "(804, 12)"
            ]
          },
          "metadata": {},
          "execution_count": 9
        }
      ]
    },
    {
      "cell_type": "code",
      "source": [
        "df.isnull().sum()"
      ],
      "metadata": {
        "colab": {
          "base_uri": "https://localhost:8080/"
        },
        "id": "PxCDMafwTvNG",
        "outputId": "0153e325-5136-42b9-b99e-2b5ac9b31101"
      },
      "execution_count": 10,
      "outputs": [
        {
          "output_type": "execute_result",
          "data": {
            "text/plain": [
              "Price       0\n",
              "Mileage     0\n",
              "Make        0\n",
              "Model       0\n",
              "Trim        0\n",
              "Type        0\n",
              "Cylinder    0\n",
              "Liter       0\n",
              "Doors       0\n",
              "Cruise      0\n",
              "Sound       0\n",
              "Leather     0\n",
              "dtype: int64"
            ]
          },
          "metadata": {},
          "execution_count": 10
        }
      ]
    },
    {
      "cell_type": "code",
      "source": [
        "df.duplicated()"
      ],
      "metadata": {
        "colab": {
          "base_uri": "https://localhost:8080/"
        },
        "id": "DK0U4MufT0FH",
        "outputId": "a956cf74-0409-43ab-e4ba-12c200c23d11"
      },
      "execution_count": 11,
      "outputs": [
        {
          "output_type": "execute_result",
          "data": {
            "text/plain": [
              "0      False\n",
              "1      False\n",
              "2      False\n",
              "3      False\n",
              "4      False\n",
              "       ...  \n",
              "799    False\n",
              "800    False\n",
              "801    False\n",
              "802    False\n",
              "803    False\n",
              "Length: 804, dtype: bool"
            ]
          },
          "metadata": {},
          "execution_count": 11
        }
      ]
    },
    {
      "cell_type": "code",
      "source": [
        "df.columns"
      ],
      "metadata": {
        "colab": {
          "base_uri": "https://localhost:8080/"
        },
        "id": "PyauKMJ3T3bG",
        "outputId": "f7eb08e2-976c-498b-888b-c409b5ebc8da"
      },
      "execution_count": 12,
      "outputs": [
        {
          "output_type": "execute_result",
          "data": {
            "text/plain": [
              "Index(['Price', 'Mileage', 'Make', 'Model', 'Trim', 'Type', 'Cylinder',\n",
              "       'Liter', 'Doors', 'Cruise', 'Sound', 'Leather'],\n",
              "      dtype='object')"
            ]
          },
          "metadata": {},
          "execution_count": 12
        }
      ]
    },
    {
      "cell_type": "markdown",
      "source": [
        "## Tasks, Part 1\n",
        "\n",
        "1. Find the linear regression equation for mileage vs price.\n",
        "2. Chart the original data and the equation on the chart.\n",
        "3. Find the equation's $R^2$ score (use the `.score` method) to determine whether the\n",
        "equation is a good fit for this data. (0.8 and greater is considered a strong correlation.)\n"
      ],
      "metadata": {
        "id": "Wl8eUCY9UHCP"
      }
    },
    {
      "cell_type": "code",
      "source": [
        "X=df.iloc[:,1:2].values"
      ],
      "metadata": {
        "id": "XvB079KBT7Jq"
      },
      "execution_count": 13,
      "outputs": []
    },
    {
      "cell_type": "code",
      "source": [
        "Y=df.iloc[:,0:1].values"
      ],
      "metadata": {
        "id": "zzky5WAWUOh4"
      },
      "execution_count": 14,
      "outputs": []
    },
    {
      "cell_type": "code",
      "source": [
        "from sklearn.linear_model import LinearRegression\n",
        "from sklearn.model_selection import train_test_split\n",
        "x_train,x_test,y_train,y_test=train_test_split(X,Y,test_size=0.25)"
      ],
      "metadata": {
        "id": "AM6rrBjoUOee"
      },
      "execution_count": 22,
      "outputs": []
    },
    {
      "cell_type": "code",
      "source": [
        "regressor=LinearRegression()\n",
        "regressor.fit(x_train,y_train)\n",
        "result=regressor.predict(x_test)"
      ],
      "metadata": {
        "id": "-N5g_73RUR9i"
      },
      "execution_count": 26,
      "outputs": []
    },
    {
      "cell_type": "code",
      "source": [
        "print(regressor.score(x_train,y_train))\n",
        "print(regressor.coef_)\n",
        "print(regressor.score(x_test,y_test))"
      ],
      "metadata": {
        "colab": {
          "base_uri": "https://localhost:8080/"
        },
        "id": "j3YhOtMgUT4w",
        "outputId": "6e39453d-2d5f-49f0-f88f-33e4077748d0"
      },
      "execution_count": 28,
      "outputs": [
        {
          "output_type": "stream",
          "name": "stdout",
          "text": [
            "0.026370805886287707\n",
            "[[-0.19649888]]\n",
            "-0.004825237241139924\n"
          ]
        }
      ]
    },
    {
      "cell_type": "code",
      "source": [
        "print(\"r-Squared\",regressor.score(X,Y))"
      ],
      "metadata": {
        "colab": {
          "base_uri": "https://localhost:8080/"
        },
        "id": "Zzvll9vBUfX2",
        "outputId": "2e9403aa-c500-4dcf-fa04-d93bb33b633b"
      },
      "execution_count": 29,
      "outputs": [
        {
          "output_type": "stream",
          "name": "stdout",
          "text": [
            "r-Squared 0.01982237211443405\n"
          ]
        }
      ]
    },
    {
      "cell_type": "code",
      "source": [
        "print(\"intercept\",regressor.intercept_)"
      ],
      "metadata": {
        "colab": {
          "base_uri": "https://localhost:8080/"
        },
        "id": "i3Q6fit0Uh6m",
        "outputId": "0a8bba48-ac6c-46a9-807e-7de5f87557b3"
      },
      "execution_count": 32,
      "outputs": [
        {
          "output_type": "stream",
          "name": "stdout",
          "text": [
            "intercept [25394.96425426]\n"
          ]
        }
      ]
    },
    {
      "cell_type": "code",
      "source": [
        "regressor.fit(X,Y)\n",
        "regressor.predict(X)"
      ],
      "metadata": {
        "colab": {
          "base_uri": "https://localhost:8080/"
        },
        "id": "F0_j770PUn3c",
        "outputId": "173e4e66-ed5f-48dc-e4f0-05920a4f7859"
      },
      "execution_count": 33,
      "outputs": [
        {
          "output_type": "execute_result",
          "data": {
            "text/plain": [
              "array([[23346.26795261],\n",
              "       [23188.58421306],\n",
              "       [22487.97845123],\n",
              "       [21945.22894945],\n",
              "       [21343.13239471],\n",
              "       [20928.393106  ],\n",
              "       [20869.73613505],\n",
              "       [20802.79817996],\n",
              "       [20620.44400851],\n",
              "       [20050.43626729],\n",
              "       [22998.46661899],\n",
              "       [22165.36511101],\n",
              "       [21895.02548313],\n",
              "       [21348.65305079],\n",
              "       [20734.65258136],\n",
              "       [20664.60925723],\n",
              "       [20622.68677505],\n",
              "       [20273.16023639],\n",
              "       [19089.32454624],\n",
              "       [18784.1357768 ],\n",
              "       [23217.05009602],\n",
              "       [22939.80964804],\n",
              "       [22286.64702447],\n",
              "       [21916.59054598],\n",
              "       [21502.54133928],\n",
              "       [21406.10237822],\n",
              "       [21073.65536935],\n",
              "       [20866.28572499],\n",
              "       [20543.15482326],\n",
              "       [20409.2789131 ],\n",
              "       [22046.49848459],\n",
              "       [21963.68864325],\n",
              "       [21633.82944191],\n",
              "       [20951.51085337],\n",
              "       [20691.00489415],\n",
              "       [20548.33043835],\n",
              "       [20414.97208969],\n",
              "       [20144.63246181],\n",
              "       [20089.94346243],\n",
              "       [19649.4986188 ],\n",
              "       [24248.37766171],\n",
              "       [23033.14324005],\n",
              "       [21600.70550537],\n",
              "       [21384.53731538],\n",
              "       [21004.12960672],\n",
              "       [20649.59997348],\n",
              "       [20444.64561617],\n",
              "       [20442.57537014],\n",
              "       [20371.49692299],\n",
              "       [19963.31341338],\n",
              "       [21770.81072113],\n",
              "       [21695.93682291],\n",
              "       [21389.71293046],\n",
              "       [21290.51364135],\n",
              "       [21286.8907108 ],\n",
              "       [20664.26421622],\n",
              "       [20568.34281667],\n",
              "       [19961.76072886],\n",
              "       [19729.20309109],\n",
              "       [19360.52677663],\n",
              "       [24366.38168562],\n",
              "       [23036.93869111],\n",
              "       [21502.19629828],\n",
              "       [21296.03429744],\n",
              "       [21235.99716247],\n",
              "       [20919.59456035],\n",
              "       [20755.7000827 ],\n",
              "       [20658.91608064],\n",
              "       [20367.18391042],\n",
              "       [20354.24487271],\n",
              "       [23954.57524546],\n",
              "       [23074.72068122],\n",
              "       [22685.34190642],\n",
              "       [22513.16644464],\n",
              "       [21773.91609018],\n",
              "       [21748.90061727],\n",
              "       [20619.4088855 ],\n",
              "       [20384.7810017 ],\n",
              "       [20301.62611935],\n",
              "       [18359.21777843],\n",
              "       [24384.66885892],\n",
              "       [23611.2594449 ],\n",
              "       [22117.57693174],\n",
              "       [21082.79895599],\n",
              "       [21078.31342292],\n",
              "       [20732.58233533],\n",
              "       [20667.02454427],\n",
              "       [20615.09587293],\n",
              "       [20417.21485622],\n",
              "       [19574.7972411 ],\n",
              "       [23626.26872865],\n",
              "       [22931.5286639 ],\n",
              "       [22864.59070882],\n",
              "       [22187.62025587],\n",
              "       [21815.49353135],\n",
              "       [21681.61762118],\n",
              "       [21581.72825007],\n",
              "       [21134.90014784],\n",
              "       [21131.96729929],\n",
              "       [20023.00550735],\n",
              "       [22332.88251922],\n",
              "       [22221.08923341],\n",
              "       [21997.15762079],\n",
              "       [21807.90262923],\n",
              "       [21545.15390347],\n",
              "       [20974.97364175],\n",
              "       [20552.47093041],\n",
              "       [20423.42559433],\n",
              "       [20393.06198583],\n",
              "       [20378.91530461],\n",
              "       [23815.86876121],\n",
              "       [23362.82992088],\n",
              "       [22557.84925486],\n",
              "       [22271.29269972],\n",
              "       [21039.32378929],\n",
              "       [20932.70611857],\n",
              "       [20425.15079935],\n",
              "       [20235.89580779],\n",
              "       [18541.05438837],\n",
              "       [17548.19889481],\n",
              "       [23652.31932457],\n",
              "       [22943.6050991 ],\n",
              "       [22698.62598514],\n",
              "       [22444.33076402],\n",
              "       [21744.07004319],\n",
              "       [21545.15390347],\n",
              "       [21157.1552927 ],\n",
              "       [20775.19489952],\n",
              "       [20240.72638187],\n",
              "       [20012.65427718],\n",
              "       [24273.56565512],\n",
              "       [23474.79572719],\n",
              "       [22353.93002056],\n",
              "       [21874.1505023 ],\n",
              "       [21469.41740275],\n",
              "       [21007.40749627],\n",
              "       [20961.86208354],\n",
              "       [20786.92629371],\n",
              "       [20314.22011606],\n",
              "       [18670.09972446],\n",
              "       [24628.61284986],\n",
              "       [24313.24537076],\n",
              "       [22378.77297296],\n",
              "       [22158.8093319 ],\n",
              "       [21558.9555437 ],\n",
              "       [21214.94966113],\n",
              "       [20648.04728896],\n",
              "       [20327.84923578],\n",
              "       [19364.14970719],\n",
              "       [19315.15388439],\n",
              "       [24663.97955293],\n",
              "       [23656.97737814],\n",
              "       [23403.02719803],\n",
              "       [22690.69004201],\n",
              "       [22073.23916252],\n",
              "       [21624.68585526],\n",
              "       [20763.29098482],\n",
              "       [19716.60909439],\n",
              "       [19277.54441479],\n",
              "       [17399.4862214 ],\n",
              "       [23037.45625262],\n",
              "       [22676.88840178],\n",
              "       [21366.07762158],\n",
              "       [21296.89689996],\n",
              "       [21256.5271023 ],\n",
              "       [20930.29083153],\n",
              "       [20885.6080213 ],\n",
              "       [20526.07529349],\n",
              "       [19950.20185517],\n",
              "       [19644.15048322],\n",
              "       [24138.48210143],\n",
              "       [24049.9790835 ],\n",
              "       [22839.92027692],\n",
              "       [22697.59086212],\n",
              "       [22452.09418665],\n",
              "       [22133.10377699],\n",
              "       [21323.63757789],\n",
              "       [20630.45019767],\n",
              "       [19425.39448568],\n",
              "       [18321.78082932],\n",
              "       [21287.2357518 ],\n",
              "       [21282.06013672],\n",
              "       [21068.99731577],\n",
              "       [21067.96219275],\n",
              "       [20776.05750203],\n",
              "       [20775.71246103],\n",
              "       [20433.08674248],\n",
              "       [20369.42667695],\n",
              "       [20322.8461412 ],\n",
              "       [19579.28277417],\n",
              "       [23508.95478675],\n",
              "       [23002.60711105],\n",
              "       [22241.10161173],\n",
              "       [21484.25416599],\n",
              "       [21139.38568091],\n",
              "       [20903.55015359],\n",
              "       [20440.3326036 ],\n",
              "       [20301.62611935],\n",
              "       [19972.62952053],\n",
              "       [18791.72667893],\n",
              "       [24718.66855232],\n",
              "       [23950.9523149 ],\n",
              "       [23608.84415786],\n",
              "       [22314.76786643],\n",
              "       [22259.38878503],\n",
              "       [21914.34777945],\n",
              "       [21169.9218099 ],\n",
              "       [20939.95197968],\n",
              "       [20799.0027289 ],\n",
              "       [19590.32408635],\n",
              "       [23541.21612077],\n",
              "       [22273.70798676],\n",
              "       [21455.09820102],\n",
              "       [21439.57135577],\n",
              "       [21389.19536895],\n",
              "       [20478.80467572],\n",
              "       [20414.28200768],\n",
              "       [20246.07451746],\n",
              "       [19086.21917719],\n",
              "       [18674.75777803],\n",
              "       [23492.73785948],\n",
              "       [22417.07252458],\n",
              "       [21463.20666465],\n",
              "       [21363.83485504],\n",
              "       [20899.23714102],\n",
              "       [20778.81783008],\n",
              "       [20708.25694443],\n",
              "       [20043.70796768],\n",
              "       [19341.20448032],\n",
              "       [18821.74524641],\n",
              "       [24564.43522282],\n",
              "       [23003.12467256],\n",
              "       [21703.87276604],\n",
              "       [21426.80483856],\n",
              "       [21381.08690532],\n",
              "       [20870.59873756],\n",
              "       [20836.094637  ],\n",
              "       [20526.07529349],\n",
              "       [20310.769706  ],\n",
              "       [19537.705333  ],\n",
              "       [24339.46848718],\n",
              "       [22811.28187346],\n",
              "       [22782.64347   ],\n",
              "       [22240.58405023],\n",
              "       [21502.19629828],\n",
              "       [20443.26545215],\n",
              "       [20439.64252159],\n",
              "       [20302.83376287],\n",
              "       [18406.31587569],\n",
              "       [17873.05500156],\n",
              "       [23961.99362708],\n",
              "       [23869.35011708],\n",
              "       [23690.79139669],\n",
              "       [22309.41973084],\n",
              "       [21664.1930504 ],\n",
              "       [21363.31729353],\n",
              "       [21331.74604152],\n",
              "       [21196.48996733],\n",
              "       [21075.03553337],\n",
              "       [19863.59656277],\n",
              "       [23310.72872904],\n",
              "       [23278.29487452],\n",
              "       [21838.95631973],\n",
              "       [21652.28913571],\n",
              "       [21567.23652783],\n",
              "       [21527.03925068],\n",
              "       [21306.73056862],\n",
              "       [21225.81845281],\n",
              "       [21023.62442354],\n",
              "       [20009.89394913],\n",
              "       [23915.41309132],\n",
              "       [22295.61809062],\n",
              "       [21345.89272275],\n",
              "       [21056.74836007],\n",
              "       [21051.05518348],\n",
              "       [20595.94609712],\n",
              "       [20449.13114924],\n",
              "       [20326.12403075],\n",
              "       [19690.73101897],\n",
              "       [18059.37714458],\n",
              "       [23437.01373708],\n",
              "       [22641.69421922],\n",
              "       [21772.53592615],\n",
              "       [21754.93883487],\n",
              "       [21260.84011487],\n",
              "       [21222.71308376],\n",
              "       [21116.61297454],\n",
              "       [20784.68352717],\n",
              "       [19382.09183948],\n",
              "       [18456.174301  ],\n",
              "       [22387.91655961],\n",
              "       [21407.13750124],\n",
              "       [21004.30212722],\n",
              "       [20984.63478991],\n",
              "       [20903.20511259],\n",
              "       [20886.47062382],\n",
              "       [20762.0833413 ],\n",
              "       [20038.5323526 ],\n",
              "       [20016.62224874],\n",
              "       [19849.10484053],\n",
              "       [24562.8825383 ],\n",
              "       [23721.15500518],\n",
              "       [22044.25571805],\n",
              "       [21249.62628219],\n",
              "       [20305.76661142],\n",
              "       [20254.35550159],\n",
              "       [20063.5478255 ],\n",
              "       [19943.99111707],\n",
              "       [19607.74865713],\n",
              "       [19098.29561239],\n",
              "       [23232.57694128],\n",
              "       [22525.24287983],\n",
              "       [22378.94549346],\n",
              "       [22262.32163358],\n",
              "       [21522.89875861],\n",
              "       [21119.54582309],\n",
              "       [21036.21842024],\n",
              "       [20667.54210578],\n",
              "       [20032.14909399],\n",
              "       [18758.25770138],\n",
              "       [24615.32877115],\n",
              "       [23059.71139748],\n",
              "       [22207.11507268],\n",
              "       [21804.45221917],\n",
              "       [21622.96065023],\n",
              "       [21502.19629828],\n",
              "       [21345.54768174],\n",
              "       [21110.40223644],\n",
              "       [21050.71014247],\n",
              "       [21033.4580922 ],\n",
              "       [23709.768652  ],\n",
              "       [23607.11895284],\n",
              "       [23537.0756287 ],\n",
              "       [23115.09047887],\n",
              "       [22136.55418704],\n",
              "       [21785.12992286],\n",
              "       [21729.23327995],\n",
              "       [20841.44277259],\n",
              "       [20243.83175092],\n",
              "       [19816.1534245 ],\n",
              "       [24139.17218344],\n",
              "       [23860.72409194],\n",
              "       [22674.47311475],\n",
              "       [22255.07577246],\n",
              "       [21314.14895024],\n",
              "       [20654.08550656],\n",
              "       [20422.39047131],\n",
              "       [20285.9267536 ],\n",
              "       [19502.33862992],\n",
              "       [19237.17461713],\n",
              "       [23547.59937937],\n",
              "       [23217.56765753],\n",
              "       [23141.1410748 ],\n",
              "       [22915.65677765],\n",
              "       [22760.04328413],\n",
              "       [21081.24627147],\n",
              "       [20841.44277259],\n",
              "       [20579.38412885],\n",
              "       [20322.6736207 ],\n",
              "       [18865.91049513],\n",
              "       [24444.87851439],\n",
              "       [22329.43210916],\n",
              "       [21625.03089627],\n",
              "       [21522.0361561 ],\n",
              "       [21335.88653359],\n",
              "       [21053.29795002],\n",
              "       [20373.39464852],\n",
              "       [20109.95584075],\n",
              "       [19697.97688009],\n",
              "       [19689.00581394],\n",
              "       [24456.26486757],\n",
              "       [23347.99315764],\n",
              "       [22339.95585983],\n",
              "       [21400.75424264],\n",
              "       [21043.80932236],\n",
              "       [20903.03259209],\n",
              "       [20266.94949829],\n",
              "       [20027.14599941],\n",
              "       [19381.57427797],\n",
              "       [19009.79259445],\n",
              "       [24654.83596629],\n",
              "       [23836.57122155],\n",
              "       [22269.7400152 ],\n",
              "       [21985.08118559],\n",
              "       [20802.79817996],\n",
              "       [20232.10035673],\n",
              "       [20040.25755763],\n",
              "       [19944.33615807],\n",
              "       [19892.23496623],\n",
              "       [18917.49412546],\n",
              "       [23740.47730149],\n",
              "       [23265.87339831],\n",
              "       [21828.26004855],\n",
              "       [21420.07653895],\n",
              "       [21359.00428096],\n",
              "       [20998.60895063],\n",
              "       [20717.22801058],\n",
              "       [20523.48748594],\n",
              "       [20187.245026  ],\n",
              "       [18915.07883842],\n",
              "       [24509.22866193],\n",
              "       [23391.12328334],\n",
              "       [22151.90851179],\n",
              "       [21069.68739778],\n",
              "       [21025.17710806],\n",
              "       [20689.45220963],\n",
              "       [20331.29964583],\n",
              "       [20024.38567137],\n",
              "       [19164.19844445],\n",
              "       [19151.60444775],\n",
              "       [23624.54352362],\n",
              "       [22143.97256866],\n",
              "       [21946.43659297],\n",
              "       [21755.62891688],\n",
              "       [21581.38320906],\n",
              "       [21526.17664817],\n",
              "       [21402.13440666],\n",
              "       [20544.53498728],\n",
              "       [20467.93588405],\n",
              "       [20300.76351684],\n",
              "       [24603.76989746],\n",
              "       [21611.40177655],\n",
              "       [21384.36479487],\n",
              "       [21334.33384906],\n",
              "       [21069.16983627],\n",
              "       [20773.64221499],\n",
              "       [20586.45746946],\n",
              "       [20383.57335818],\n",
              "       [20222.43920857],\n",
              "       [19892.75252774],\n",
              "       [23792.92353434],\n",
              "       [23488.42484691],\n",
              "       [23445.63976222],\n",
              "       [22219.19150788],\n",
              "       [21747.52045325],\n",
              "       [21534.80267331],\n",
              "       [21279.64484968],\n",
              "       [21063.64918018],\n",
              "       [20824.01820181],\n",
              "       [20815.73721767],\n",
              "       [23258.10997569],\n",
              "       [22799.03291776],\n",
              "       [22249.38259587],\n",
              "       [22020.96545017],\n",
              "       [21753.90371185],\n",
              "       [21562.23343325],\n",
              "       [21287.58079281],\n",
              "       [21094.70287069],\n",
              "       [20315.77280058],\n",
              "       [20286.61683561],\n",
              "       [23759.2820363 ],\n",
              "       [23324.87541027],\n",
              "       [22967.93048999],\n",
              "       [22755.21271005],\n",
              "       [22021.82805269],\n",
              "       [21555.33261314],\n",
              "       [20711.87987499],\n",
              "       [20290.92984818],\n",
              "       [20158.26158154],\n",
              "       [19011.86284049],\n",
              "       [23545.70165384],\n",
              "       [22442.9506    ],\n",
              "       [22213.32581078],\n",
              "       [21840.33648375],\n",
              "       [21773.57104917],\n",
              "       [21655.56702526],\n",
              "       [20942.88482823],\n",
              "       [20843.34049812],\n",
              "       [20068.89596109],\n",
              "       [18027.80589257],\n",
              "       [22613.91841827],\n",
              "       [22185.72253034],\n",
              "       [20970.48810868],\n",
              "       [20861.11010991],\n",
              "       [20612.50806538],\n",
              "       [20509.34080472],\n",
              "       [20448.09602622],\n",
              "       [20410.14151561],\n",
              "       [20356.66015975],\n",
              "       [20240.55386137],\n",
              "       [22712.94518687],\n",
              "       [21784.61236135],\n",
              "       [21461.13641861],\n",
              "       [21396.78627107],\n",
              "       [21232.71927292],\n",
              "       [20981.35690035],\n",
              "       [20339.23558896],\n",
              "       [20314.56515706],\n",
              "       [20077.52198623],\n",
              "       [19382.43688048],\n",
              "       [22771.25711681],\n",
              "       [21918.66079202],\n",
              "       [21731.13100548],\n",
              "       [21586.90386515],\n",
              "       [21226.16349381],\n",
              "       [21120.75346661],\n",
              "       [20896.13177197],\n",
              "       [20495.19412349],\n",
              "       [20007.4786621 ],\n",
              "       [19867.56453433],\n",
              "       [24368.62445216],\n",
              "       [23789.30060378],\n",
              "       [23224.29595714],\n",
              "       [22854.92956067],\n",
              "       [22087.73088475],\n",
              "       [21414.38336236],\n",
              "       [20815.39217667],\n",
              "       [20235.55076679],\n",
              "       [20093.22135198],\n",
              "       [19939.850625  ],\n",
              "       [23981.8334849 ],\n",
              "       [23782.91734518],\n",
              "       [23203.4209763 ],\n",
              "       [22828.70644424],\n",
              "       [22640.31405519],\n",
              "       [21181.30816309],\n",
              "       [20860.7650689 ],\n",
              "       [20196.73365366],\n",
              "       [19872.91266992],\n",
              "       [19578.07513065],\n",
              "       [23507.40210222],\n",
              "       [22981.04204821],\n",
              "       [22831.63929279],\n",
              "       [21393.68090202],\n",
              "       [21164.05611281],\n",
              "       [21020.51905449],\n",
              "       [20362.52585684],\n",
              "       [19519.2456392 ],\n",
              "       [18618.68861463],\n",
              "       [17593.57178704],\n",
              "       [24612.5684431 ],\n",
              "       [23879.35630624],\n",
              "       [23598.14788669],\n",
              "       [23146.31668988],\n",
              "       [22682.06401687],\n",
              "       [21604.84599744],\n",
              "       [21155.94764918],\n",
              "       [20897.6844565 ],\n",
              "       [20858.52230237],\n",
              "       [20738.79307343],\n",
              "       [24083.79310205],\n",
              "       [24042.04314037],\n",
              "       [24019.61547501],\n",
              "       [23841.57431613],\n",
              "       [23766.01033591],\n",
              "       [22621.85436139],\n",
              "       [22476.59209804],\n",
              "       [21382.81211035],\n",
              "       [20628.20743114],\n",
              "       [20530.56082656],\n",
              "       [21908.65460286],\n",
              "       [21534.97519381],\n",
              "       [21171.12945342],\n",
              "       [21089.1822146 ],\n",
              "       [20400.65288796],\n",
              "       [20317.49800561],\n",
              "       [20308.35441896],\n",
              "       [20190.86795656],\n",
              "       [19601.88296003],\n",
              "       [19335.16626272],\n",
              "       [22827.32628022],\n",
              "       [22640.14153469],\n",
              "       [22561.12714441],\n",
              "       [21759.76940895],\n",
              "       [21118.85574108],\n",
              "       [21105.22662136],\n",
              "       [20452.9266003 ],\n",
              "       [20355.45251623],\n",
              "       [20274.19535941],\n",
              "       [19982.11814819],\n",
              "       [24489.90636562],\n",
              "       [24386.91162545],\n",
              "       [21666.26329643],\n",
              "       [21184.58605264],\n",
              "       [20973.59347773],\n",
              "       [20859.21238438],\n",
              "       [20625.9646646 ],\n",
              "       [20348.37917561],\n",
              "       [19968.48902846],\n",
              "       [19705.39526171],\n",
              "       [23179.95818792],\n",
              "       [22881.4977181 ],\n",
              "       [22404.82356888],\n",
              "       [21970.93450436],\n",
              "       [21069.51487728],\n",
              "       [20643.73427639],\n",
              "       [20458.44725639],\n",
              "       [20257.28835014],\n",
              "       [20072.17385064],\n",
              "       [18471.01106424],\n",
              "       [22496.77699687],\n",
              "       [21688.51844129],\n",
              "       [21472.6952923 ],\n",
              "       [21447.8523399 ],\n",
              "       [21207.53127951],\n",
              "       [20987.91267946],\n",
              "       [20635.97085376],\n",
              "       [20569.20541918],\n",
              "       [20402.37809298],\n",
              "       [20262.29144472],\n",
              "       [21642.62798755],\n",
              "       [21591.73443923],\n",
              "       [21406.44741923],\n",
              "       [21395.06106605],\n",
              "       [21332.43612353],\n",
              "       [20834.71447298],\n",
              "       [20785.89117069],\n",
              "       [20582.8345389 ],\n",
              "       [19953.47974472],\n",
              "       [19006.85974591],\n",
              "       [22642.03926022],\n",
              "       [21990.77436218],\n",
              "       [21822.56687196],\n",
              "       [21623.65073224],\n",
              "       [21088.66465309],\n",
              "       [21074.17293085],\n",
              "       [21062.09649566],\n",
              "       [20030.94145048],\n",
              "       [19343.27472635],\n",
              "       [19279.95970183],\n",
              "       [24251.65555126],\n",
              "       [23994.6000021 ],\n",
              "       [23254.31452463],\n",
              "       [23185.99640552],\n",
              "       [22589.07546586],\n",
              "       [22296.82573414],\n",
              "       [21022.93434153],\n",
              "       [20759.15049276],\n",
              "       [20740.86331946],\n",
              "       [20577.48640332],\n",
              "       [22980.6970072 ],\n",
              "       [22651.01032637],\n",
              "       [21709.04838113],\n",
              "       [21467.34715672],\n",
              "       [21154.56748515],\n",
              "       [21105.74418286],\n",
              "       [21027.5923951 ],\n",
              "       [20701.18360382],\n",
              "       [20527.62797801],\n",
              "       [18699.25568943],\n",
              "       [24090.52140166],\n",
              "       [21992.49956721],\n",
              "       [21885.53685548],\n",
              "       [21388.50528694],\n",
              "       [21095.7379937 ],\n",
              "       [21066.92706974],\n",
              "       [20219.50636003],\n",
              "       [19990.22661182],\n",
              "       [19988.15636578],\n",
              "       [16071.76843192],\n",
              "       [24104.15052138],\n",
              "       [21765.98014705],\n",
              "       [21729.92336196],\n",
              "       [21498.74588822],\n",
              "       [20886.47062382],\n",
              "       [20687.03692259],\n",
              "       [20443.09293164],\n",
              "       [20010.23899014],\n",
              "       [19303.4224902 ],\n",
              "       [19161.61063691],\n",
              "       [23038.83641664],\n",
              "       [23036.93869111],\n",
              "       [22300.7937057 ],\n",
              "       [21776.67641822],\n",
              "       [21278.26468566],\n",
              "       [21114.025167  ],\n",
              "       [20922.18236789],\n",
              "       [20828.67625538],\n",
              "       [20103.91762316],\n",
              "       [20002.99312902],\n",
              "       [22678.78612732],\n",
              "       [22493.84414832],\n",
              "       [21989.04915716],\n",
              "       [21625.54845777],\n",
              "       [21112.81752348],\n",
              "       [21091.07994013],\n",
              "       [20618.71880349],\n",
              "       [20379.08782511],\n",
              "       [20097.70688506],\n",
              "       [16312.60705382],\n",
              "       [24097.42222177],\n",
              "       [23877.1135397 ],\n",
              "       [22901.33757592],\n",
              "       [22819.7353781 ],\n",
              "       [22251.2803214 ],\n",
              "       [20936.50156963],\n",
              "       [20912.52121974],\n",
              "       [20865.94068399],\n",
              "       [20210.01773237],\n",
              "       [18868.67082317],\n",
              "       [24475.41464338],\n",
              "       [23397.50654194],\n",
              "       [23074.72068122],\n",
              "       [22161.74218045],\n",
              "       [20960.13687851],\n",
              "       [20771.91700996],\n",
              "       [20408.93387209],\n",
              "       [20231.41027472],\n",
              "       [19830.81766724],\n",
              "       [18085.08269949],\n",
              "       [21839.30136073],\n",
              "       [21836.02347118],\n",
              "       [21311.56114269],\n",
              "       [21296.37933845],\n",
              "       [20950.99329186],\n",
              "       [20917.69683482],\n",
              "       [20723.09370767],\n",
              "       [20385.98864522],\n",
              "       [20192.24812059],\n",
              "       [19283.06507088],\n",
              "       [23658.87510367],\n",
              "       [22301.31126721],\n",
              "       [22168.12543905],\n",
              "       [21965.41384827],\n",
              "       [21777.02145923],\n",
              "       [21626.9286218 ],\n",
              "       [21520.31095107],\n",
              "       [20976.00876477],\n",
              "       [18457.72698552],\n",
              "       [17739.6966529 ],\n",
              "       [23381.46213518],\n",
              "       [22243.51689877],\n",
              "       [21339.33694364],\n",
              "       [20965.4850141 ],\n",
              "       [20867.32084801],\n",
              "       [20817.1173817 ],\n",
              "       [20787.09881421],\n",
              "       [20761.39325929],\n",
              "       [20496.74680801],\n",
              "       [19357.07636657],\n",
              "       [21715.60416023],\n",
              "       [21579.14044252],\n",
              "       [21343.47743571],\n",
              "       [21195.97240582],\n",
              "       [21157.67285421],\n",
              "       [21047.60477342],\n",
              "       [20999.81659415],\n",
              "       [20389.95661678],\n",
              "       [20143.4248183 ],\n",
              "       [18852.45389591],\n",
              "       [23930.24985456],\n",
              "       [21757.35412191],\n",
              "       [21035.35581773],\n",
              "       [20413.93696667],\n",
              "       [24267.87247853],\n",
              "       [23296.92708882],\n",
              "       [22943.6050991 ],\n",
              "       [22535.59411   ],\n",
              "       [22284.40425793],\n",
              "       [21840.16396325],\n",
              "       [21718.53700878],\n",
              "       [21408.17262426],\n",
              "       [21138.17803739],\n",
              "       [20925.11521644],\n",
              "       [20685.31171756],\n",
              "       [20563.8572836 ],\n",
              "       [20282.30382304],\n",
              "       [20273.16023639],\n",
              "       [20238.31109483],\n",
              "       [20143.07977729],\n",
              "       [20108.92071774],\n",
              "       [20066.65319455],\n",
              "       [19570.31170802],\n",
              "       [18043.50525832],\n",
              "       [24464.89089271],\n",
              "       [24351.88996339],\n",
              "       [22722.60633502],\n",
              "       [22623.23452542],\n",
              "       [22542.83997112],\n",
              "       [22466.93094989],\n",
              "       [22187.44773537],\n",
              "       [21976.11011945],\n",
              "       [21807.73010872],\n",
              "       [21614.8521866 ],\n",
              "       [21571.03197889],\n",
              "       [21469.24488225],\n",
              "       [21400.40920163],\n",
              "       [21339.50946415],\n",
              "       [21008.7876603 ],\n",
              "       [20990.3279665 ],\n",
              "       [20838.33740354],\n",
              "       [20826.60600935],\n",
              "       [20729.64948678],\n",
              "       [20612.16302438],\n",
              "       [20509.51332522],\n",
              "       [20496.40176701],\n",
              "       [20222.43920857],\n",
              "       [19882.57381807],\n",
              "       [19865.3217678 ],\n",
              "       [19639.49242964],\n",
              "       [19164.88852646],\n",
              "       [19137.11272551],\n",
              "       [18905.41769027],\n",
              "       [18726.68644937],\n",
              "       [23759.4545568 ],\n",
              "       [23426.66250692],\n",
              "       [23021.75688686],\n",
              "       [22869.2487624 ],\n",
              "       [22307.52200531],\n",
              "       [21964.72376626],\n",
              "       [21470.28000526],\n",
              "       [21230.64902689],\n",
              "       [20282.64886405],\n",
              "       [18612.13283552]])"
            ]
          },
          "metadata": {},
          "execution_count": 33
        }
      ]
    },
    {
      "cell_type": "code",
      "source": [
        "plt.scatter(X, Y, color='r')\n",
        "plt.plot(X,regressor.predict(X) )\n",
        "plt.xlabel('Mileage')\n",
        "plt.ylabel('Price')\n",
        "plt.title('Mileage vs Price')"
      ],
      "metadata": {
        "colab": {
          "base_uri": "https://localhost:8080/",
          "height": 312
        },
        "id": "Ci0cH-kpUreC",
        "outputId": "15f895bf-dbd5-40e8-cf48-76874c53cee2"
      },
      "execution_count": 38,
      "outputs": [
        {
          "output_type": "execute_result",
          "data": {
            "text/plain": [
              "Text(0.5, 1.0, 'Mileage vs Price')"
            ]
          },
          "metadata": {},
          "execution_count": 38
        },
        {
          "output_type": "display_data",
          "data": {
            "text/plain": [
              "<Figure size 432x288 with 1 Axes>"
            ],
            "image/png": "[encoded data removed]"
          },
          "metadata": {
            "needs_background": "light"
          }
        }
      ]
    },
    {
      "cell_type": "markdown",
      "source": [
        "## Tasks, Part 2\n",
        "\n",
        "1. Use mileage, cylinders, liters, doors, cruise, sound, and leather to find the linear regression equation.\n",
        "2. Find the equation's $R^2$ score (use the `.score` method) to determine whether the\n",
        "equation is a good fit for this data. (0.8 and greater is considered a strong correlation.)\n",
        "3. Find the combination of the factors that is the best predictor for price.\n"
      ],
      "metadata": {
        "id": "QAJKq8NuU29Y"
      }
    },
    {
      "cell_type": "code",
      "source": [
        "df.columns"
      ],
      "metadata": {
        "colab": {
          "base_uri": "https://localhost:8080/"
        },
        "id": "r9vbXJrxUwJy",
        "outputId": "9b5558a5-51ec-41dc-bcbf-ca630dd1aa41"
      },
      "execution_count": 39,
      "outputs": [
        {
          "output_type": "execute_result",
          "data": {
            "text/plain": [
              "Index(['Price', 'Mileage', 'Make', 'Model', 'Trim', 'Type', 'Cylinder',\n",
              "       'Liter', 'Doors', 'Cruise', 'Sound', 'Leather'],\n",
              "      dtype='object')"
            ]
          },
          "metadata": {},
          "execution_count": 39
        }
      ]
    },
    {
      "cell_type": "code",
      "source": [
        "X=df[['Mileage',  'Cylinder','Liter', 'Doors', 'Cruise', 'Sound', 'Leather']].values\n",
        "Y=df[['Price']].values"
      ],
      "metadata": {
        "id": "K_X9g-WhVNF3"
      },
      "execution_count": 40,
      "outputs": []
    },
    {
      "cell_type": "code",
      "source": [
        "x_train,x_test,y_train,y_test=train_test_split(X,Y,test_size=0.25)"
      ],
      "metadata": {
        "id": "yxmOQ0i5VO5h"
      },
      "execution_count": 43,
      "outputs": []
    },
    {
      "cell_type": "code",
      "source": [
        "regressor1=LinearRegression()\n",
        "regressor1.fit(x_train,y_train)\n",
        "result=regressor1.predict(x_test)"
      ],
      "metadata": {
        "id": "OatB8vc3VRQm"
      },
      "execution_count": 47,
      "outputs": []
    },
    {
      "cell_type": "code",
      "source": [
        "print(regressor1.score(x_train,y_train))\n",
        "\n",
        "print(regressor1.score(x_test,y_test))"
      ],
      "metadata": {
        "colab": {
          "base_uri": "https://localhost:8080/"
        },
        "id": "mr-s5r85VVHa",
        "outputId": "36638c6d-6d40-4ad2-9deb-ae4152ef4fa2"
      },
      "execution_count": 48,
      "outputs": [
        {
          "output_type": "stream",
          "name": "stdout",
          "text": [
            "0.4552962322781757\n",
            "0.4067424882303138\n"
          ]
        }
      ]
    },
    {
      "cell_type": "code",
      "source": [
        "print(\"Coefficent\",regressor1.coef_)\n",
        "print(\"Intercept\",regressor1.intercept_)\n",
        "print(\"R-Squared\",regressor1.score(X,Y))"
      ],
      "metadata": {
        "colab": {
          "base_uri": "https://localhost:8080/"
        },
        "id": "cXznvtdaVZdv",
        "outputId": "cd98d9d5-50eb-4301-e024-658d39779c3e"
      },
      "execution_count": 50,
      "outputs": [
        {
          "output_type": "stream",
          "name": "stdout",
          "text": [
            "Coefficent [[-1.49820008e-01  4.66558095e+03 -1.63910688e+03 -1.60492003e+03\n",
            "   6.17485023e+03 -1.65412222e+03  3.42593691e+03]]\n",
            "Intercept [4321.45962039]\n",
            "R-Squared 0.44424987717662623\n"
          ]
        }
      ]
    },
    {
      "cell_type": "code",
      "source": [
        "import seaborn as sns\n",
        "\n",
        "df.boxplot(by ='Doors', column ='Price', grid = False)\n",
        "plt.show()"
      ],
      "metadata": {
        "colab": {
          "base_uri": "https://localhost:8080/",
          "height": 356
        },
        "id": "Yy0njj7HVcsD",
        "outputId": "91e50cd6-165b-4a9e-f5a4-a9cb7523ed0c"
      },
      "execution_count": 51,
      "outputs": [
        {
          "output_type": "stream",
          "name": "stderr",
          "text": [
            "/usr/local/lib/python3.7/dist-packages/matplotlib/cbook/__init__.py:1376: VisibleDeprecationWarning: Creating an ndarray from ragged nested sequences (which is a list-or-tuple of lists-or-tuples-or ndarrays with different lengths or shapes) is deprecated. If you meant to do this, you must specify 'dtype=object' when creating the ndarray.\n",
            "  X = np.atleast_1d(X.T if isinstance(X, np.ndarray) else np.asarray(X))\n"
          ]
        },
        {
          "output_type": "display_data",
          "data": {
            "text/plain": [
              "<Figure size 432x288 with 1 Axes>"
            ],
            "image/png": "[encoded data removed]"
          },
          "metadata": {
            "needs_background": "light"
          }
        }
      ]
    },
    {
      "cell_type": "code",
      "source": [
        "car_features = ['Mileage', 'Cylinder', 'Liter', 'Doors', 'Cruise', 'Sound', 'Leather']"
      ],
      "metadata": {
        "id": "gq-ihZM3Vi6l"
      },
      "execution_count": 52,
      "outputs": []
    },
    {
      "cell_type": "code",
      "source": [
        "def lin_reg_eq(cols, df_in, focus='Price', print_this=False):\n",
        "    input_cols = df_in[cols]\n",
        "    focus_output = df_in[focus]\n",
        "    regr = linear_model.LinearRegression()\n",
        "    regr.fit(input_cols, focus_output)\n",
        "    if print_this:\n",
        "        print('The equation for columns {} w.r.t. {}:\\n'.format(cols, focus))\n",
        "        for n, x in enumerate(cols):\n",
        "            print('({} * {}) + '.format(regr.coef_[n], x))\n",
        "        print('{}'.format(regr.intercept_))\n",
        "    return regr"
      ],
      "metadata": {
        "id": "isiTSnVTVmJ_"
      },
      "execution_count": 56,
      "outputs": []
    },
    {
      "cell_type": "code",
      "source": [
        "regr_features = lin_reg_eq(car_features, df, print_this=True)"
      ],
      "metadata": {
        "colab": {
          "base_uri": "https://localhost:8080/"
        },
        "id": "R3Tsdx01Vova",
        "outputId": "82ca86aa-eff8-487e-8d86-9656807e05a8"
      },
      "execution_count": 57,
      "outputs": [
        {
          "output_type": "stream",
          "name": "stdout",
          "text": [
            "The equation for columns ['Mileage', 'Cylinder', 'Liter', 'Doors', 'Cruise', 'Sound', 'Leather'] w.r.t. Price:\n",
            "\n",
            "(-0.16974783233303692 * Mileage) + \n",
            "(3792.378930782515 * Cylinder) + \n",
            "(-787.2207316338321 * Liter) + \n",
            "(-1542.745846382068 * Doors) + \n",
            "(6288.997149849932 * Cruise) + \n",
            "(-1993.795275698427 * Sound) + \n",
            "(3349.361619613555 * Leather) + \n",
            "6758.755143598106\n"
          ]
        }
      ]
    },
    {
      "cell_type": "code",
      "source": [
        "print('Score of the above linear regression: {}'\n",
        "      .format(regr_features.score(df[car_features], df['Price'])))"
      ],
      "metadata": {
        "colab": {
          "base_uri": "https://localhost:8080/"
        },
        "id": "Ks3GdpUIVvsb",
        "outputId": "6b44c636-3e4e-45cc-b837-929e17dc440b"
      },
      "execution_count": 63,
      "outputs": [
        {
          "output_type": "stream",
          "name": "stdout",
          "text": [
            "Score of the above linear regression: 0.4462643536728379\n"
          ]
        }
      ]
    },
    {
      "cell_type": "code",
      "source": [
        "import itertools\n",
        "combinations = []\n",
        "for x in range(1,8):\n",
        "    combinations.append(itertools.combinations(car_features, x))"
      ],
      "metadata": {
        "id": "amYzxjCxVzA9"
      },
      "execution_count": 64,
      "outputs": []
    },
    {
      "cell_type": "code",
      "source": [
        "def lin_reg_wrt_focus(cols, df_in, focus='Price'):\n",
        "    '''cols is a list of lists'''\n",
        "    input_cols = df_in[cols]\n",
        "    focus_output = df_in[focus]\n",
        "    regr = linear_model.LinearRegression()\n",
        "    regr.fit(input_cols, focus_output)\n",
        "    return regr.score(input_cols, focus_output)\n",
        "\n",
        "def get_combos(cols):\n",
        "    return [list1(combinations(cols, n + 1)) for n in range(len(cols))]\n",
        "\n",
        "def all_combo_scores(combos, df_in, focus='Price'):\n",
        "    combo_scores = {}\n",
        "    for m in range(len(combos)):\n",
        "        for n in combos[m]:\n",
        "            combo_scores[n] = lin_reg_wrt_focus(list(n), df_in, focus)\n",
        "    return combo_scores"
      ],
      "metadata": {
        "id": "0fTcxDTeV9K0"
      },
      "execution_count": 68,
      "outputs": []
    },
    {
      "cell_type": "code",
      "source": [
        "combos = get_combos(car_features)\n",
        "combo_scores = all_combo_scores(combos, df)\n",
        "score_list1 = sorted(combo_scores.items(), key=lambda c: c[1], reverse=True)\n",
        "for score in score_list1:\n",
        "    print(score[1], score[0])"
      ],
      "metadata": {
        "id": "SxfkHZnMWy-d"
      },
      "execution_count": null,
      "outputs": []
    },
    {
      "cell_type": "markdown",
      "source": [
        "## Tasks, Hard Mode\n",
        "\n",
        "1. Research dummy variables in scikit-learn to see how to use the make, model, and body type.\n",
        "2. Find the best combination of factors to predict price."
      ],
      "metadata": {
        "id": "U6nHIsCfW6NJ"
      }
    },
    {
      "cell_type": "code",
      "source": [
        "df_mmt = df.copy()\n",
        "\n",
        "df_make = pd.get_dummies(df['Make'])\n",
        "df_mmt[list(df_make.columns)] = df_make\n",
        "df_mmt.pop('Make')\n",
        "\n",
        "df_model = pd.get_dummies(df['Model'])\n",
        "df_mmt[list(df_model.columns)] = df_model\n",
        "df_mmt.pop('Model')\n",
        "\n",
        "df_type = pd.get_dummies(df['Type'])\n",
        "df_mmt[list(df_type.columns)] = df_type\n",
        "df_mmt.pop('Type')\n",
        "\n",
        "pd.set_option('display.max_columns', None)\n",
        "df_mmt.head(1)"
      ],
      "metadata": {
        "colab": {
          "base_uri": "https://localhost:8080/",
          "height": 197
        },
        "id": "mzM90Fu4WCog",
        "outputId": "94e9353b-cca9-415a-ab65-93bb6c8c9e2e"
      },
      "execution_count": 78,
      "outputs": [
        {
          "output_type": "execute_result",
          "data": {
            "text/plain": [
              "          Price  Mileage      Trim  Cylinder  Liter  Doors  Cruise  Sound  \\\n",
              "0  17314.103129     8221  Sedan 4D         6    3.1      4       1      1   \n",
              "\n",
              "   Leather  Buick  Cadillac  Chevrolet  Pontiac  SAAB  Saturn  9-2X AWD  9_3  \\\n",
              "0        1      1         0          0        0     0       0         0    0   \n",
              "\n",
              "   9_3 HO  9_5  9_5 HO  AVEO  Bonneville  CST-V  CTS  Cavalier  Century  \\\n",
              "0       0    0       0     0           0      0    0         0        1   \n",
              "\n",
              "   Classic  Cobalt  Corvette  Deville  G6  GTO  Grand Am  Grand Prix  Impala  \\\n",
              "0        0       0         0        0   0    0         0           0       0   \n",
              "\n",
              "   Ion  L Series  Lacrosse  Lesabre  Malibu  Monte Carlo  Park Avenue  STS-V6  \\\n",
              "0    0         0         0        0       0            0            0       0   \n",
              "\n",
              "   STS-V8  Sunfire  Vibe  XLR-V8  Convertible  Coupe  Hatchback  Sedan  Wagon  \n",
              "0       0        0     0       0            0      0          0      1      0  "
            ],
            "text/html": [
              "\n",
              "  <div id=\"df-3711b721-67b7-43af-9d03-e1be0faee2c1\">\n",
              "    <div class=\"colab-df-container\">\n",
              "      <div>\n",
              "<style scoped>\n",
              "    .dataframe tbody tr th:only-of-type {\n",
              "        vertical-align: middle;\n",
              "    }\n",
              "\n",
              "    .dataframe tbody tr th {\n",
              "        vertical-align: top;\n",
              "    }\n",
              "\n",
              "    .dataframe thead th {\n",
              "        text-align: right;\n",
              "    }\n",
              "</style>\n",
              "<table border=\"1\" class=\"dataframe\">\n",
              "  <thead>\n",
              "    <tr style=\"text-align: right;\">\n",
              "      <th></th>\n",
              "      <th>Price</th>\n",
              "      <th>Mileage</th>\n",
              "      <th>Trim</th>\n",
              "      <th>Cylinder</th>\n",
              "      <th>Liter</th>\n",
              "      <th>Doors</th>\n",
              "      <th>Cruise</th>\n",
              "      <th>Sound</th>\n",
              "      <th>Leather</th>\n",
              "      <th>Buick</th>\n",
              "      <th>Cadillac</th>\n",
              "      <th>Chevrolet</th>\n",
              "      <th>Pontiac</th>\n",
              "      <th>SAAB</th>\n",
              "      <th>Saturn</th>\n",
              "      <th>9-2X AWD</th>\n",
              "      <th>9_3</th>\n",
              "      <th>9_3 HO</th>\n",
              "      <th>9_5</th>\n",
              "      <th>9_5 HO</th>\n",
              "      <th>AVEO</th>\n",
              "      <th>Bonneville</th>\n",
              "      <th>CST-V</th>\n",
              "      <th>CTS</th>\n",
              "      <th>Cavalier</th>\n",
              "      <th>Century</th>\n",
              "      <th>Classic</th>\n",
              "      <th>Cobalt</th>\n",
              "      <th>Corvette</th>\n",
              "      <th>Deville</th>\n",
              "      <th>G6</th>\n",
              "      <th>GTO</th>\n",
              "      <th>Grand Am</th>\n",
              "      <th>Grand Prix</th>\n",
              "      <th>Impala</th>\n",
              "      <th>Ion</th>\n",
              "      <th>L Series</th>\n",
              "      <th>Lacrosse</th>\n",
              "      <th>Lesabre</th>\n",
              "      <th>Malibu</th>\n",
              "      <th>Monte Carlo</th>\n",
              "      <th>Park Avenue</th>\n",
              "      <th>STS-V6</th>\n",
              "      <th>STS-V8</th>\n",
              "      <th>Sunfire</th>\n",
              "      <th>Vibe</th>\n",
              "      <th>XLR-V8</th>\n",
              "      <th>Convertible</th>\n",
              "      <th>Coupe</th>\n",
              "      <th>Hatchback</th>\n",
              "      <th>Sedan</th>\n",
              "      <th>Wagon</th>\n",
              "    </tr>\n",
              "  </thead>\n",
              "  <tbody>\n",
              "    <tr>\n",
              "      <th>0</th>\n",
              "      <td>17314.103129</td>\n",
              "      <td>8221</td>\n",
              "      <td>Sedan 4D</td>\n",
              "      <td>6</td>\n",
              "      <td>3.1</td>\n",
              "      <td>4</td>\n",
              "      <td>1</td>\n",
              "      <td>1</td>\n",
              "      <td>1</td>\n",
              "      <td>1</td>\n",
              "      <td>0</td>\n",
              "      <td>0</td>\n",
              "      <td>0</td>\n",
              "      <td>0</td>\n",
              "      <td>0</td>\n",
              "      <td>0</td>\n",
              "      <td>0</td>\n",
              "      <td>0</td>\n",
              "      <td>0</td>\n",
              "      <td>0</td>\n",
              "      <td>0</td>\n",
              "      <td>0</td>\n",
              "      <td>0</td>\n",
              "      <td>0</td>\n",
              "      <td>0</td>\n",
              "      <td>1</td>\n",
              "      <td>0</td>\n",
              "      <td>0</td>\n",
              "      <td>0</td>\n",
              "      <td>0</td>\n",
              "      <td>0</td>\n",
              "      <td>0</td>\n",
              "      <td>0</td>\n",
              "      <td>0</td>\n",
              "      <td>0</td>\n",
              "      <td>0</td>\n",
              "      <td>0</td>\n",
              "      <td>0</td>\n",
              "      <td>0</td>\n",
              "      <td>0</td>\n",
              "      <td>0</td>\n",
              "      <td>0</td>\n",
              "      <td>0</td>\n",
              "      <td>0</td>\n",
              "      <td>0</td>\n",
              "      <td>0</td>\n",
              "      <td>0</td>\n",
              "      <td>0</td>\n",
              "      <td>0</td>\n",
              "      <td>0</td>\n",
              "      <td>1</td>\n",
              "      <td>0</td>\n",
              "    </tr>\n",
              "  </tbody>\n",
              "</table>\n",
              "</div>\n",
              "      <button class=\"colab-df-convert\" onclick=\"convertToInteractive('df-3711b721-67b7-43af-9d03-e1be0faee2c1')\"\n",
              "              title=\"Convert this dataframe to an interactive table.\"\n",
              "              style=\"display:none;\">\n",
              "        \n",
              "  <svg xmlns=\"http://www.w3.org/2000/svg\" height=\"24px\"viewBox=\"0 0 24 24\"\n",
              "       width=\"24px\">\n",
              "    <path d=\"M0 0h24v24H0V0z\" fill=\"none\"/>\n",
              "    <path d=\"M18.56 5.44l.94 2.06.94-2.06 2.06-.94-2.06-.94-.94-2.06-.94 2.06-2.06.94zm-11 1L8.5 8.5l.94-2.06 2.06-.94-2.06-.94L8.5 2.5l-.94 2.06-2.06.94zm10 10l.94 2.06.94-2.06 2.06-.94-2.06-.94-.94-2.06-.94 2.06-2.06.94z\"/><path d=\"M17.41 7.96l-1.37-1.37c-.4-.4-.92-.59-1.43-.59-.52 0-1.04.2-1.43.59L10.3 9.45l-7.72 7.72c-.78.78-.78 2.05 0 2.83L4 21.41c.39.39.9.59 1.41.59.51 0 1.02-.2 1.41-.59l7.78-7.78 2.81-2.81c.8-.78.8-2.07 0-2.86zM5.41 20L4 18.59l7.72-7.72 1.47 1.35L5.41 20z\"/>\n",
              "  </svg>\n",
              "      </button>\n",
              "      \n",
              "  <style>\n",
              "    .colab-df-container {\n",
              "      display:flex;\n",
              "      flex-wrap:wrap;\n",
              "      gap: 12px;\n",
              "    }\n",
              "\n",
              "    .colab-df-convert {\n",
              "      background-color: #E8F0FE;\n",
              "      border: none;\n",
              "      border-radius: 50%;\n",
              "      cursor: pointer;\n",
              "      display: none;\n",
              "      fill: #1967D2;\n",
              "      height: 32px;\n",
              "      padding: 0 0 0 0;\n",
              "      width: 32px;\n",
              "    }\n",
              "\n",
              "    .colab-df-convert:hover {\n",
              "      background-color: #E2EBFA;\n",
              "      box-shadow: 0px 1px 2px rgba(60, 64, 67, 0.3), 0px 1px 3px 1px rgba(60, 64, 67, 0.15);\n",
              "      fill: #174EA6;\n",
              "    }\n",
              "\n",
              "    [theme=dark] .colab-df-convert {\n",
              "      background-color: #3B4455;\n",
              "      fill: #D2E3FC;\n",
              "    }\n",
              "\n",
              "    [theme=dark] .colab-df-convert:hover {\n",
              "      background-color: #434B5C;\n",
              "      box-shadow: 0px 1px 3px 1px rgba(0, 0, 0, 0.15);\n",
              "      filter: drop-shadow(0px 1px 2px rgba(0, 0, 0, 0.3));\n",
              "      fill: #FFFFFF;\n",
              "    }\n",
              "  </style>\n",
              "\n",
              "      <script>\n",
              "        const buttonEl =\n",
              "          document.querySelector('#df-3711b721-67b7-43af-9d03-e1be0faee2c1 button.colab-df-convert');\n",
              "        buttonEl.style.display =\n",
              "          google.colab.kernel.accessAllowed ? 'block' : 'none';\n",
              "\n",
              "        async function convertToInteractive(key) {\n",
              "          const element = document.querySelector('#df-3711b721-67b7-43af-9d03-e1be0faee2c1');\n",
              "          const dataTable =\n",
              "            await google.colab.kernel.invokeFunction('convertToInteractive',\n",
              "                                                     [key], {});\n",
              "          if (!dataTable) return;\n",
              "\n",
              "          const docLinkHtml = 'Like what you see? Visit the ' +\n",
              "            '<a target=\"_blank\" href=https://colab.research.google.com/notebooks/data_table.ipynb>data table notebook</a>'\n",
              "            + ' to learn more about interactive tables.';\n",
              "          element.innerHTML = '';\n",
              "          dataTable['output_type'] = 'display_data';\n",
              "          await google.colab.output.renderOutput(dataTable, element);\n",
              "          const docLink = document.createElement('div');\n",
              "          docLink.innerHTML = docLinkHtml;\n",
              "          element.appendChild(docLink);\n",
              "        }\n",
              "      </script>\n",
              "    </div>\n",
              "  </div>\n",
              "  "
            ]
          },
          "metadata": {},
          "execution_count": 78
        }
      ]
    },
    {
      "cell_type": "code",
      "source": [
        "columns = list(df_make.columns)\n",
        "columns.extend(df_model.columns)\n",
        "columns.extend(df_type.columns)\n",
        "input_cols = []\n",
        "for item in columns:\n",
        "    input_cols.append([item])\n",
        "input_cols[:3]"
      ],
      "metadata": {
        "colab": {
          "base_uri": "https://localhost:8080/"
        },
        "id": "VHnk_PY0XLFf",
        "outputId": "8642a0e2-5e27-41e2-c20a-381d475a7904"
      },
      "execution_count": 79,
      "outputs": [
        {
          "output_type": "execute_result",
          "data": {
            "text/plain": [
              "[['Buick'], ['Cadillac'], ['Chevrolet']]"
            ]
          },
          "metadata": {},
          "execution_count": 79
        }
      ]
    },
    {
      "cell_type": "code",
      "source": [
        "df.columns"
      ],
      "metadata": {
        "colab": {
          "base_uri": "https://localhost:8080/"
        },
        "id": "unEjIPhtXP0-",
        "outputId": "c3799b98-6abd-423f-f7b7-fc3dbf21effc"
      },
      "execution_count": 80,
      "outputs": [
        {
          "output_type": "execute_result",
          "data": {
            "text/plain": [
              "Index(['Price', 'Mileage', 'Make', 'Model', 'Trim', 'Type', 'Cylinder',\n",
              "       'Liter', 'Doors', 'Cruise', 'Sound', 'Leather'],\n",
              "      dtype='object')"
            ]
          },
          "metadata": {},
          "execution_count": 80
        }
      ]
    },
    {
      "cell_type": "code",
      "source": [
        "Make=pd.get_dummies(df['Make'], drop_first=True)\n",
        "Model=pd.get_dummies(df['Model'],drop_first=True)\n",
        "Type=pd.get_dummies(df['Type'],drop_first=True)\n",
        "df_1=pd.concat([df,Make,Model,Type],axis=1)\n",
        "df_1.head(1)"
      ],
      "metadata": {
        "colab": {
          "base_uri": "https://localhost:8080/",
          "height": 179
        },
        "id": "ULESrc_TXPxc",
        "outputId": "25f36b4a-a208-40a1-8f33-fa1e8b9b281b"
      },
      "execution_count": 83,
      "outputs": [
        {
          "output_type": "execute_result",
          "data": {
            "text/plain": [
              "          Price  Mileage   Make    Model      Trim   Type  Cylinder  Liter  \\\n",
              "0  17314.103129     8221  Buick  Century  Sedan 4D  Sedan         6    3.1   \n",
              "\n",
              "   Doors  Cruise  Sound  Leather  Cadillac  Chevrolet  Pontiac  SAAB  Saturn  \\\n",
              "0      4       1      1        1         0          0        0     0       0   \n",
              "\n",
              "   9_3  9_3 HO  9_5  9_5 HO  AVEO  Bonneville  CST-V  CTS  Cavalier  Century  \\\n",
              "0    0       0    0       0     0           0      0    0         0        1   \n",
              "\n",
              "   Classic  Cobalt  Corvette  Deville  G6  GTO  Grand Am  Grand Prix  Impala  \\\n",
              "0        0       0         0        0   0    0         0           0       0   \n",
              "\n",
              "   Ion  L Series  Lacrosse  Lesabre  Malibu  Monte Carlo  Park Avenue  STS-V6  \\\n",
              "0    0         0         0        0       0            0            0       0   \n",
              "\n",
              "   STS-V8  Sunfire  Vibe  XLR-V8  Coupe  Hatchback  Sedan  Wagon  \n",
              "0       0        0     0       0      0          0      1      0  "
            ],
            "text/html": [
              "\n",
              "  <div id=\"df-16767fc3-f17f-4662-bcfb-f740d5c9e104\">\n",
              "    <div class=\"colab-df-container\">\n",
              "      <div>\n",
              "<style scoped>\n",
              "    .dataframe tbody tr th:only-of-type {\n",
              "        vertical-align: middle;\n",
              "    }\n",
              "\n",
              "    .dataframe tbody tr th {\n",
              "        vertical-align: top;\n",
              "    }\n",
              "\n",
              "    .dataframe thead th {\n",
              "        text-align: right;\n",
              "    }\n",
              "</style>\n",
              "<table border=\"1\" class=\"dataframe\">\n",
              "  <thead>\n",
              "    <tr style=\"text-align: right;\">\n",
              "      <th></th>\n",
              "      <th>Price</th>\n",
              "      <th>Mileage</th>\n",
              "      <th>Make</th>\n",
              "      <th>Model</th>\n",
              "      <th>Trim</th>\n",
              "      <th>Type</th>\n",
              "      <th>Cylinder</th>\n",
              "      <th>Liter</th>\n",
              "      <th>Doors</th>\n",
              "      <th>Cruise</th>\n",
              "      <th>Sound</th>\n",
              "      <th>Leather</th>\n",
              "      <th>Cadillac</th>\n",
              "      <th>Chevrolet</th>\n",
              "      <th>Pontiac</th>\n",
              "      <th>SAAB</th>\n",
              "      <th>Saturn</th>\n",
              "      <th>9_3</th>\n",
              "      <th>9_3 HO</th>\n",
              "      <th>9_5</th>\n",
              "      <th>9_5 HO</th>\n",
              "      <th>AVEO</th>\n",
              "      <th>Bonneville</th>\n",
              "      <th>CST-V</th>\n",
              "      <th>CTS</th>\n",
              "      <th>Cavalier</th>\n",
              "      <th>Century</th>\n",
              "      <th>Classic</th>\n",
              "      <th>Cobalt</th>\n",
              "      <th>Corvette</th>\n",
              "      <th>Deville</th>\n",
              "      <th>G6</th>\n",
              "      <th>GTO</th>\n",
              "      <th>Grand Am</th>\n",
              "      <th>Grand Prix</th>\n",
              "      <th>Impala</th>\n",
              "      <th>Ion</th>\n",
              "      <th>L Series</th>\n",
              "      <th>Lacrosse</th>\n",
              "      <th>Lesabre</th>\n",
              "      <th>Malibu</th>\n",
              "      <th>Monte Carlo</th>\n",
              "      <th>Park Avenue</th>\n",
              "      <th>STS-V6</th>\n",
              "      <th>STS-V8</th>\n",
              "      <th>Sunfire</th>\n",
              "      <th>Vibe</th>\n",
              "      <th>XLR-V8</th>\n",
              "      <th>Coupe</th>\n",
              "      <th>Hatchback</th>\n",
              "      <th>Sedan</th>\n",
              "      <th>Wagon</th>\n",
              "    </tr>\n",
              "  </thead>\n",
              "  <tbody>\n",
              "    <tr>\n",
              "      <th>0</th>\n",
              "      <td>17314.103129</td>\n",
              "      <td>8221</td>\n",
              "      <td>Buick</td>\n",
              "      <td>Century</td>\n",
              "      <td>Sedan 4D</td>\n",
              "      <td>Sedan</td>\n",
              "      <td>6</td>\n",
              "      <td>3.1</td>\n",
              "      <td>4</td>\n",
              "      <td>1</td>\n",
              "      <td>1</td>\n",
              "      <td>1</td>\n",
              "      <td>0</td>\n",
              "      <td>0</td>\n",
              "      <td>0</td>\n",
              "      <td>0</td>\n",
              "      <td>0</td>\n",
              "      <td>0</td>\n",
              "      <td>0</td>\n",
              "      <td>0</td>\n",
              "      <td>0</td>\n",
              "      <td>0</td>\n",
              "      <td>0</td>\n",
              "      <td>0</td>\n",
              "      <td>0</td>\n",
              "      <td>0</td>\n",
              "      <td>1</td>\n",
              "      <td>0</td>\n",
              "      <td>0</td>\n",
              "      <td>0</td>\n",
              "      <td>0</td>\n",
              "      <td>0</td>\n",
              "      <td>0</td>\n",
              "      <td>0</td>\n",
              "      <td>0</td>\n",
              "      <td>0</td>\n",
              "      <td>0</td>\n",
              "      <td>0</td>\n",
              "      <td>0</td>\n",
              "      <td>0</td>\n",
              "      <td>0</td>\n",
              "      <td>0</td>\n",
              "      <td>0</td>\n",
              "      <td>0</td>\n",
              "      <td>0</td>\n",
              "      <td>0</td>\n",
              "      <td>0</td>\n",
              "      <td>0</td>\n",
              "      <td>0</td>\n",
              "      <td>0</td>\n",
              "      <td>1</td>\n",
              "      <td>0</td>\n",
              "    </tr>\n",
              "  </tbody>\n",
              "</table>\n",
              "</div>\n",
              "      <button class=\"colab-df-convert\" onclick=\"convertToInteractive('df-16767fc3-f17f-4662-bcfb-f740d5c9e104')\"\n",
              "              title=\"Convert this dataframe to an interactive table.\"\n",
              "              style=\"display:none;\">\n",
              "        \n",
              "  <svg xmlns=\"http://www.w3.org/2000/svg\" height=\"24px\"viewBox=\"0 0 24 24\"\n",
              "       width=\"24px\">\n",
              "    <path d=\"M0 0h24v24H0V0z\" fill=\"none\"/>\n",
              "    <path d=\"M18.56 5.44l.94 2.06.94-2.06 2.06-.94-2.06-.94-.94-2.06-.94 2.06-2.06.94zm-11 1L8.5 8.5l.94-2.06 2.06-.94-2.06-.94L8.5 2.5l-.94 2.06-2.06.94zm10 10l.94 2.06.94-2.06 2.06-.94-2.06-.94-.94-2.06-.94 2.06-2.06.94z\"/><path d=\"M17.41 7.96l-1.37-1.37c-.4-.4-.92-.59-1.43-.59-.52 0-1.04.2-1.43.59L10.3 9.45l-7.72 7.72c-.78.78-.78 2.05 0 2.83L4 21.41c.39.39.9.59 1.41.59.51 0 1.02-.2 1.41-.59l7.78-7.78 2.81-2.81c.8-.78.8-2.07 0-2.86zM5.41 20L4 18.59l7.72-7.72 1.47 1.35L5.41 20z\"/>\n",
              "  </svg>\n",
              "      </button>\n",
              "      \n",
              "  <style>\n",
              "    .colab-df-container {\n",
              "      display:flex;\n",
              "      flex-wrap:wrap;\n",
              "      gap: 12px;\n",
              "    }\n",
              "\n",
              "    .colab-df-convert {\n",
              "      background-color: #E8F0FE;\n",
              "      border: none;\n",
              "      border-radius: 50%;\n",
              "      cursor: pointer;\n",
              "      display: none;\n",
              "      fill: #1967D2;\n",
              "      height: 32px;\n",
              "      padding: 0 0 0 0;\n",
              "      width: 32px;\n",
              "    }\n",
              "\n",
              "    .colab-df-convert:hover {\n",
              "      background-color: #E2EBFA;\n",
              "      box-shadow: 0px 1px 2px rgba(60, 64, 67, 0.3), 0px 1px 3px 1px rgba(60, 64, 67, 0.15);\n",
              "      fill: #174EA6;\n",
              "    }\n",
              "\n",
              "    [theme=dark] .colab-df-convert {\n",
              "      background-color: #3B4455;\n",
              "      fill: #D2E3FC;\n",
              "    }\n",
              "\n",
              "    [theme=dark] .colab-df-convert:hover {\n",
              "      background-color: #434B5C;\n",
              "      box-shadow: 0px 1px 3px 1px rgba(0, 0, 0, 0.15);\n",
              "      filter: drop-shadow(0px 1px 2px rgba(0, 0, 0, 0.3));\n",
              "      fill: #FFFFFF;\n",
              "    }\n",
              "  </style>\n",
              "\n",
              "      <script>\n",
              "        const buttonEl =\n",
              "          document.querySelector('#df-16767fc3-f17f-4662-bcfb-f740d5c9e104 button.colab-df-convert');\n",
              "        buttonEl.style.display =\n",
              "          google.colab.kernel.accessAllowed ? 'block' : 'none';\n",
              "\n",
              "        async function convertToInteractive(key) {\n",
              "          const element = document.querySelector('#df-16767fc3-f17f-4662-bcfb-f740d5c9e104');\n",
              "          const dataTable =\n",
              "            await google.colab.kernel.invokeFunction('convertToInteractive',\n",
              "                                                     [key], {});\n",
              "          if (!dataTable) return;\n",
              "\n",
              "          const docLinkHtml = 'Like what you see? Visit the ' +\n",
              "            '<a target=\"_blank\" href=https://colab.research.google.com/notebooks/data_table.ipynb>data table notebook</a>'\n",
              "            + ' to learn more about interactive tables.';\n",
              "          element.innerHTML = '';\n",
              "          dataTable['output_type'] = 'display_data';\n",
              "          await google.colab.output.renderOutput(dataTable, element);\n",
              "          const docLink = document.createElement('div');\n",
              "          docLink.innerHTML = docLinkHtml;\n",
              "          element.appendChild(docLink);\n",
              "        }\n",
              "      </script>\n",
              "    </div>\n",
              "  </div>\n",
              "  "
            ]
          },
          "metadata": {},
          "execution_count": 83
        }
      ]
    },
    {
      "cell_type": "code",
      "source": [
        "df_1.columns"
      ],
      "metadata": {
        "colab": {
          "base_uri": "https://localhost:8080/"
        },
        "id": "6Krv2S1rXYzD",
        "outputId": "3fcd673c-0f2a-49d4-c292-9e3fae157ebc"
      },
      "execution_count": 84,
      "outputs": [
        {
          "output_type": "execute_result",
          "data": {
            "text/plain": [
              "Index(['Price', 'Mileage', 'Make', 'Model', 'Trim', 'Type', 'Cylinder',\n",
              "       'Liter', 'Doors', 'Cruise', 'Sound', 'Leather', 'Cadillac', 'Chevrolet',\n",
              "       'Pontiac', 'SAAB', 'Saturn', '9_3', '9_3 HO', '9_5', '9_5 HO', 'AVEO',\n",
              "       'Bonneville', 'CST-V', 'CTS', 'Cavalier', 'Century', 'Classic',\n",
              "       'Cobalt', 'Corvette', 'Deville', 'G6', 'GTO', 'Grand Am', 'Grand Prix',\n",
              "       'Impala', 'Ion', 'L Series', 'Lacrosse', 'Lesabre', 'Malibu',\n",
              "       'Monte Carlo', 'Park Avenue', 'STS-V6', 'STS-V8', 'Sunfire', 'Vibe',\n",
              "       'XLR-V8', 'Coupe', 'Hatchback', 'Sedan', 'Wagon'],\n",
              "      dtype='object')"
            ]
          },
          "metadata": {},
          "execution_count": 84
        }
      ]
    },
    {
      "cell_type": "code",
      "source": [
        "X=df_1[[\n",
        "        'Cadillac', 'Chevrolet',\n",
        "       'Pontiac', 'SAAB', 'Saturn', '9_3', '9_3 HO', '9_5', '9_5 HO', 'AVEO',\n",
        "       'Bonneville', 'CST-V', 'CTS', 'Cavalier', 'Century', 'Classic',\n",
        "       'Cobalt', 'Corvette', 'Deville', 'G6', 'GTO', 'Grand Am', 'Grand Prix',\n",
        "       'Impala', 'Ion', 'L Series', 'Lacrosse', 'Lesabre', 'Malibu',\n",
        "       'Monte Carlo', 'Park Avenue', 'STS-V6', 'STS-V8', 'Sunfire', 'Vibe',\n",
        "       'XLR-V8', 'Coupe', 'Hatchback', 'Sedan', 'Wagon']].values"
      ],
      "metadata": {
        "id": "fxmVjMVEXYO1"
      },
      "execution_count": 85,
      "outputs": []
    },
    {
      "cell_type": "code",
      "source": [
        "Y=df_1['Price'].values"
      ],
      "metadata": {
        "id": "UMqpi91DXYLZ"
      },
      "execution_count": 86,
      "outputs": []
    },
    {
      "cell_type": "code",
      "source": [
        "x_train,x_test,y_train,y_test=train_test_split(X,Y,test_size=0.25)"
      ],
      "metadata": {
        "id": "Wk-03IluXn3G"
      },
      "execution_count": 87,
      "outputs": []
    },
    {
      "cell_type": "code",
      "source": [
        "from sklearn.linear_model import LinearRegression\n",
        "regressor=LinearRegression()\n",
        "regressor.fit(x_train,y_train)\n",
        "result=regressor.predict(x_test)"
      ],
      "metadata": {
        "id": "s5bR8pDtXqwy"
      },
      "execution_count": 89,
      "outputs": []
    },
    {
      "cell_type": "code",
      "source": [
        "print(regressor.score(x_train,y_train))\n",
        "print(regressor.coef_)\n",
        "print(regressor.score(x_test,y_test))"
      ],
      "metadata": {
        "colab": {
          "base_uri": "https://localhost:8080/"
        },
        "id": "5QNl7U13Xtwb",
        "outputId": "77466c8d-0789-41a9-847a-bcac25987189"
      },
      "execution_count": 90,
      "outputs": [
        {
          "output_type": "stream",
          "name": "stdout",
          "text": [
            "0.9568053693440242\n",
            "[-3.78841191e+13 -9.33079593e+15 -1.04497357e+16 -5.79973673e+15\n",
            " -7.22024567e+15  3.95595959e+03  4.58393346e+03  6.99021885e+03\n",
            "  5.36712180e+03  3.53105919e+15  4.64999897e+15 -5.76185261e+15\n",
            " -5.76185261e+15  3.53105919e+15 -5.79973673e+15  3.53105919e+15\n",
            "  3.53105919e+15  3.53105919e+15 -5.76185261e+15  4.64999897e+15\n",
            "  4.64999897e+15  4.64999897e+15  4.64999897e+15  3.53105919e+15\n",
            "  1.42050893e+15  1.42050893e+15 -5.79973673e+15 -5.79973673e+15\n",
            "  3.53105919e+15  3.53105919e+15 -5.79973673e+15 -5.76185261e+15\n",
            " -5.76185261e+15  4.64999897e+15  4.64999897e+15 -5.76185261e+15\n",
            " -5.85025000e+03 -5.71512500e+03 -6.24550000e+03 -5.26200000e+03]\n",
            "0.9607400681902772\n"
          ]
        }
      ]
    },
    {
      "cell_type": "code",
      "source": [
        "import matplotlib.pyplot as plt\n",
        "\n",
        "y_pred=regressor.predict(x_test)\n",
        "x_pred=regressor.predict(x_train)"
      ],
      "metadata": {
        "id": "MhLhWS6zXw6y"
      },
      "execution_count": 93,
      "outputs": []
    },
    {
      "cell_type": "code",
      "source": [
        "combo_twos = list1(combinations(car_features, 2))\n",
        "combo_twos_list = [[x[0], x[1]] for x in combo_twos]\n",
        "combo_twos_list1[:3]"
      ],
      "metadata": {
        "id": "qMtg-kSJX4re"
      },
      "execution_count": null,
      "outputs": []
    },
    {
      "cell_type": "code",
      "source": [
        "def all_combos_plus_scores(combos, combo_addition, df_in, focus='Price'):\n",
        "    scores = {}\n",
        "    for c_a in combo_addition:\n",
        "        combos_c = deepcopy(combos)\n",
        "        for cb in combos_c:\n",
        "            cb.extend(c_a)\n",
        "            scores[(cb[0], cb[1], cb[2])] = lin_reg_wrt_focus(cb, df_in, focus)\n",
        "    return scores"
      ],
      "metadata": {
        "id": "MXwoM2fuYGXL"
      },
      "execution_count": 96,
      "outputs": []
    },
    {
      "cell_type": "code",
      "source": [
        "car_data_combos = all_combos_plus_scores(combo_twos_list1, input_cols, df_mmt)\n",
        "car_data_combos_list = sorted(car_data_combos.items(), key=lambda c: c[1], reverse=True)\n",
        "max_dict = {}\n",
        "for score_ in car_data_combos_list:\n",
        "    try:\n",
        "        max_dict[score_[0][2]]\n",
        "    except:\n",
        "        max_dict[score_[0][2]] = score_[1]\n",
        "        print(score_[1], score_[0])"
      ],
      "metadata": {
        "id": "BQcHWs_sYToF"
      },
      "execution_count": null,
      "outputs": []
    },
    {
      "cell_type": "code",
      "source": [
        "car_data_2 = {}\n",
        "for item in deepcopy(input_cols):\n",
        "    car_data_2[item[0]] = lin_reg_wrt_focus(item, df_mmt)\n",
        "\n",
        "score_list2 = sorted(car_data_2.items(), key=lambda c: c[1], reverse=True)\n",
        "for score in score_list2:\n",
        "    print(score[1], score[0])"
      ],
      "metadata": {
        "id": "MIHu2U_kYTXz"
      },
      "execution_count": null,
      "outputs": []
    },
    {
      "cell_type": "code",
      "source": [
        "adjusted_car_features = car_features + ['Cadillac', 'Convertible', 'Chevrolet']\n",
        "lin_reg_wrt_focus(adjusted_car_features, df_mmt)"
      ],
      "metadata": {
        "colab": {
          "base_uri": "https://localhost:8080/"
        },
        "id": "sf5mhalzYa7B",
        "outputId": "9bdedb30-dd16-4557-cc15-ec3f0c9f24f6"
      },
      "execution_count": 100,
      "outputs": [
        {
          "output_type": "execute_result",
          "data": {
            "text/plain": [
              "0.8301641680699673"
            ]
          },
          "metadata": {},
          "execution_count": 100
        }
      ]
    },
    {
      "cell_type": "code",
      "source": [
        "adjusted_car_features_2 = ['Cadillac', 'Convertible', 'Chevrolet', 'Mileage', 'Cylinder', 'Cruise', 'Liter']\n",
        "lin_reg_wrt_focus(adjusted_car_features_2, df_mmt)"
      ],
      "metadata": {
        "colab": {
          "base_uri": "https://localhost:8080/"
        },
        "id": "zp_WgUZ5Ya3c",
        "outputId": "fa9efeab-2aec-4126-bd09-306604355b26"
      },
      "execution_count": 101,
      "outputs": [
        {
          "output_type": "execute_result",
          "data": {
            "text/plain": [
              "0.8230830294947846"
            ]
          },
          "metadata": {},
          "execution_count": 101
        }
      ]
    },
    {
      "cell_type": "code",
      "source": [
        "# The Dataset of the given project is inthe format of CSV. import Data set as CSV file"
      ],
      "metadata": {
        "id": "-xR9vNqrYa0t"
      },
      "execution_count": null,
      "outputs": []
    }
  ],
  "metadata": {
    "kernelspec": {
      "display_name": "Python 3",
      "language": "python",
      "name": "python3"
    },
    "language_info": {
      "codemirror_mode": {
        "name": "ipython",
        "version": 3
      },
      "file_extension": ".py",
      "mimetype": "text/x-python",
      "name": "python",
      "nbconvert_exporter": "python",
      "pygments_lexer": "ipython3",
      "version": "3.8.3"
    },
    "colab": {
      "provenance": []
    }
  },
  "nbformat": 4,
  "nbformat_minor": 0
}